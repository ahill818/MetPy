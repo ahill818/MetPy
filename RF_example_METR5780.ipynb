{
  "nbformat": 4,
  "nbformat_minor": 0,
  "metadata": {
    "colab": {
      "provenance": [],
      "include_colab_link": true
    },
    "kernelspec": {
      "name": "python3",
      "display_name": "Python 3"
    }
  },
  "cells": [
    {
      "cell_type": "markdown",
      "metadata": {
        "id": "view-in-github",
        "colab_type": "text"
      },
      "source": [
        "<a href=\"https://colab.research.google.com/github/ahill818/MetPy/blob/master/RF_example_METR5780.ipynb\" target=\"_parent\"><img src=\"https://colab.research.google.com/assets/colab-badge.svg\" alt=\"Open In Colab\"/></a>"
      ]
    },
    {
      "cell_type": "markdown",
      "metadata": {
        "id": "9QQ0q47JvgwX"
      },
      "source": [
        "# Random Forest Excersise\n",
        "Instructors: Aaron Hill and Wei-Ting Hsiao"
      ]
    },
    {
      "cell_type": "markdown",
      "metadata": {
        "id": "nTtgMJ57vnh2"
      },
      "source": [
        "Example adapted from Will Koehrsen: https://towardsdatascience.com/random-forest-in-python-24d0893d51c0"
      ]
    },
    {
      "cell_type": "markdown",
      "metadata": {
        "id": "7V55BtYqA52O"
      },
      "source": [
        "Lets import some libraries we will need throughout this tutorial:\n",
        "\n"
      ]
    },
    {
      "cell_type": "code",
      "metadata": {
        "id": "TLuuXcBoA5TN"
      },
      "source": [
        "# Pandas is used for data manipulation\n",
        "import pandas as pd\n",
        "\n",
        "# Use numpy to convert to arrays\n",
        "import numpy as np\n",
        "\n",
        "# Using Skicit-learn to split data into training and testing sets\n",
        "from sklearn.model_selection import train_test_split\n",
        "\n",
        "# Import the model we are using\n",
        "from sklearn.ensemble import RandomForestRegressor\n",
        "\n",
        "import datetime\n",
        "\n",
        "# Import tools needed for visualization\n",
        "from sklearn.tree import export_graphviz\n",
        "import pydot\n",
        "import matplotlib.pyplot as plt\n",
        "%matplotlib inline\n",
        "\n",
        "# Permutation importance method from sklearn\n",
        "from sklearn.inspection import permutation_importance"
      ],
      "execution_count": 1,
      "outputs": []
    },
    {
      "cell_type": "markdown",
      "metadata": {
        "id": "pq0ubEIlhJ4Y"
      },
      "source": [
        "# 1. Data Preparation"
      ]
    },
    {
      "cell_type": "markdown",
      "metadata": {
        "id": "8TV70rZ43-A6"
      },
      "source": [
        "### 1.1 Data overview"
      ]
    },
    {
      "cell_type": "markdown",
      "metadata": {
        "id": "e_adDXBpYzKN"
      },
      "source": [
        "We have stored a .csv file on a CSU drive, accessible via URL. This will be the basis for our tutorial. This file contains Fort Collins weather data from 2018, and we will use these data to predict the high temperature for a given day with a random forest regression model.  "
      ]
    },
    {
      "cell_type": "code",
      "metadata": {
        "id": "PlulN6WnZ_K8"
      },
      "source": [
        "# Read in data from url\n",
        "url = \"http://schumacher.atmos.colostate.edu/hilla/temps_FC.csv\"\n",
        "features = pd.read_csv(url)"
      ],
      "execution_count": 2,
      "outputs": []
    },
    {
      "cell_type": "markdown",
      "metadata": {
        "id": "OqVhzCoFB2wx"
      },
      "source": [
        "Lets look at our data to see what we are working with"
      ]
    },
    {
      "cell_type": "code",
      "metadata": {
        "id": "ibJ9lUMQB8le",
        "outputId": "7547ea3b-9c92-46d4-da17-f28b62205d04",
        "colab": {
          "base_uri": "https://localhost:8080/",
          "height": 244
        }
      },
      "source": [
        "# Display first 5 rows\n",
        "print('The shape of our features is:', features.shape)\n",
        "features.head(5)"
      ],
      "execution_count": 3,
      "outputs": [
        {
          "output_type": "stream",
          "name": "stdout",
          "text": [
            "The shape of our features is: (365, 11)\n"
          ]
        },
        {
          "output_type": "execute_result",
          "data": {
            "text/plain": [
              "   YEAR  MONTH  DAY  TMAX  TMIN  TMAX_1d  TMAX_2d  TMAX_BD  TMAX_SF  PRCP  \\\n",
              "0  2018      1    1    26    10       31       24       30       61   0.0   \n",
              "1  2018      1    2    41     5       26       31       46       61   0.0   \n",
              "2  2018      1    3    47    12       41       26       50       58   0.0   \n",
              "3  2018      1    4    51    18       47       41       52       63   0.0   \n",
              "4  2018      1    5    50    21       51       47       62       61   0.0   \n",
              "\n",
              "   TMAX_CLIM  \n",
              "0       43.5  \n",
              "1       43.6  \n",
              "2       43.7  \n",
              "3       43.8  \n",
              "4       43.9  "
            ],
            "text/html": [
              "\n",
              "  <div id=\"df-56b8bdaf-55e1-49f9-9e87-59091044d4b5\" class=\"colab-df-container\">\n",
              "    <div>\n",
              "<style scoped>\n",
              "    .dataframe tbody tr th:only-of-type {\n",
              "        vertical-align: middle;\n",
              "    }\n",
              "\n",
              "    .dataframe tbody tr th {\n",
              "        vertical-align: top;\n",
              "    }\n",
              "\n",
              "    .dataframe thead th {\n",
              "        text-align: right;\n",
              "    }\n",
              "</style>\n",
              "<table border=\"1\" class=\"dataframe\">\n",
              "  <thead>\n",
              "    <tr style=\"text-align: right;\">\n",
              "      <th></th>\n",
              "      <th>YEAR</th>\n",
              "      <th>MONTH</th>\n",
              "      <th>DAY</th>\n",
              "      <th>TMAX</th>\n",
              "      <th>TMIN</th>\n",
              "      <th>TMAX_1d</th>\n",
              "      <th>TMAX_2d</th>\n",
              "      <th>TMAX_BD</th>\n",
              "      <th>TMAX_SF</th>\n",
              "      <th>PRCP</th>\n",
              "      <th>TMAX_CLIM</th>\n",
              "    </tr>\n",
              "  </thead>\n",
              "  <tbody>\n",
              "    <tr>\n",
              "      <th>0</th>\n",
              "      <td>2018</td>\n",
              "      <td>1</td>\n",
              "      <td>1</td>\n",
              "      <td>26</td>\n",
              "      <td>10</td>\n",
              "      <td>31</td>\n",
              "      <td>24</td>\n",
              "      <td>30</td>\n",
              "      <td>61</td>\n",
              "      <td>0.0</td>\n",
              "      <td>43.5</td>\n",
              "    </tr>\n",
              "    <tr>\n",
              "      <th>1</th>\n",
              "      <td>2018</td>\n",
              "      <td>1</td>\n",
              "      <td>2</td>\n",
              "      <td>41</td>\n",
              "      <td>5</td>\n",
              "      <td>26</td>\n",
              "      <td>31</td>\n",
              "      <td>46</td>\n",
              "      <td>61</td>\n",
              "      <td>0.0</td>\n",
              "      <td>43.6</td>\n",
              "    </tr>\n",
              "    <tr>\n",
              "      <th>2</th>\n",
              "      <td>2018</td>\n",
              "      <td>1</td>\n",
              "      <td>3</td>\n",
              "      <td>47</td>\n",
              "      <td>12</td>\n",
              "      <td>41</td>\n",
              "      <td>26</td>\n",
              "      <td>50</td>\n",
              "      <td>58</td>\n",
              "      <td>0.0</td>\n",
              "      <td>43.7</td>\n",
              "    </tr>\n",
              "    <tr>\n",
              "      <th>3</th>\n",
              "      <td>2018</td>\n",
              "      <td>1</td>\n",
              "      <td>4</td>\n",
              "      <td>51</td>\n",
              "      <td>18</td>\n",
              "      <td>47</td>\n",
              "      <td>41</td>\n",
              "      <td>52</td>\n",
              "      <td>63</td>\n",
              "      <td>0.0</td>\n",
              "      <td>43.8</td>\n",
              "    </tr>\n",
              "    <tr>\n",
              "      <th>4</th>\n",
              "      <td>2018</td>\n",
              "      <td>1</td>\n",
              "      <td>5</td>\n",
              "      <td>50</td>\n",
              "      <td>21</td>\n",
              "      <td>51</td>\n",
              "      <td>47</td>\n",
              "      <td>62</td>\n",
              "      <td>61</td>\n",
              "      <td>0.0</td>\n",
              "      <td>43.9</td>\n",
              "    </tr>\n",
              "  </tbody>\n",
              "</table>\n",
              "</div>\n",
              "    <div class=\"colab-df-buttons\">\n",
              "\n",
              "  <div class=\"colab-df-container\">\n",
              "    <button class=\"colab-df-convert\" onclick=\"convertToInteractive('df-56b8bdaf-55e1-49f9-9e87-59091044d4b5')\"\n",
              "            title=\"Convert this dataframe to an interactive table.\"\n",
              "            style=\"display:none;\">\n",
              "\n",
              "  <svg xmlns=\"http://www.w3.org/2000/svg\" height=\"24px\" viewBox=\"0 -960 960 960\">\n",
              "    <path d=\"M120-120v-720h720v720H120Zm60-500h600v-160H180v160Zm220 220h160v-160H400v160Zm0 220h160v-160H400v160ZM180-400h160v-160H180v160Zm440 0h160v-160H620v160ZM180-180h160v-160H180v160Zm440 0h160v-160H620v160Z\"/>\n",
              "  </svg>\n",
              "    </button>\n",
              "\n",
              "  <style>\n",
              "    .colab-df-container {\n",
              "      display:flex;\n",
              "      gap: 12px;\n",
              "    }\n",
              "\n",
              "    .colab-df-convert {\n",
              "      background-color: #E8F0FE;\n",
              "      border: none;\n",
              "      border-radius: 50%;\n",
              "      cursor: pointer;\n",
              "      display: none;\n",
              "      fill: #1967D2;\n",
              "      height: 32px;\n",
              "      padding: 0 0 0 0;\n",
              "      width: 32px;\n",
              "    }\n",
              "\n",
              "    .colab-df-convert:hover {\n",
              "      background-color: #E2EBFA;\n",
              "      box-shadow: 0px 1px 2px rgba(60, 64, 67, 0.3), 0px 1px 3px 1px rgba(60, 64, 67, 0.15);\n",
              "      fill: #174EA6;\n",
              "    }\n",
              "\n",
              "    .colab-df-buttons div {\n",
              "      margin-bottom: 4px;\n",
              "    }\n",
              "\n",
              "    [theme=dark] .colab-df-convert {\n",
              "      background-color: #3B4455;\n",
              "      fill: #D2E3FC;\n",
              "    }\n",
              "\n",
              "    [theme=dark] .colab-df-convert:hover {\n",
              "      background-color: #434B5C;\n",
              "      box-shadow: 0px 1px 3px 1px rgba(0, 0, 0, 0.15);\n",
              "      filter: drop-shadow(0px 1px 2px rgba(0, 0, 0, 0.3));\n",
              "      fill: #FFFFFF;\n",
              "    }\n",
              "  </style>\n",
              "\n",
              "    <script>\n",
              "      const buttonEl =\n",
              "        document.querySelector('#df-56b8bdaf-55e1-49f9-9e87-59091044d4b5 button.colab-df-convert');\n",
              "      buttonEl.style.display =\n",
              "        google.colab.kernel.accessAllowed ? 'block' : 'none';\n",
              "\n",
              "      async function convertToInteractive(key) {\n",
              "        const element = document.querySelector('#df-56b8bdaf-55e1-49f9-9e87-59091044d4b5');\n",
              "        const dataTable =\n",
              "          await google.colab.kernel.invokeFunction('convertToInteractive',\n",
              "                                                    [key], {});\n",
              "        if (!dataTable) return;\n",
              "\n",
              "        const docLinkHtml = 'Like what you see? Visit the ' +\n",
              "          '<a target=\"_blank\" href=https://colab.research.google.com/notebooks/data_table.ipynb>data table notebook</a>'\n",
              "          + ' to learn more about interactive tables.';\n",
              "        element.innerHTML = '';\n",
              "        dataTable['output_type'] = 'display_data';\n",
              "        await google.colab.output.renderOutput(dataTable, element);\n",
              "        const docLink = document.createElement('div');\n",
              "        docLink.innerHTML = docLinkHtml;\n",
              "        element.appendChild(docLink);\n",
              "      }\n",
              "    </script>\n",
              "  </div>\n",
              "\n",
              "\n",
              "<div id=\"df-c72749f6-489c-44bd-9dc0-3f57b72f8cbf\">\n",
              "  <button class=\"colab-df-quickchart\" onclick=\"quickchart('df-c72749f6-489c-44bd-9dc0-3f57b72f8cbf')\"\n",
              "            title=\"Suggest charts\"\n",
              "            style=\"display:none;\">\n",
              "\n",
              "<svg xmlns=\"http://www.w3.org/2000/svg\" height=\"24px\"viewBox=\"0 0 24 24\"\n",
              "     width=\"24px\">\n",
              "    <g>\n",
              "        <path d=\"M19 3H5c-1.1 0-2 .9-2 2v14c0 1.1.9 2 2 2h14c1.1 0 2-.9 2-2V5c0-1.1-.9-2-2-2zM9 17H7v-7h2v7zm4 0h-2V7h2v10zm4 0h-2v-4h2v4z\"/>\n",
              "    </g>\n",
              "</svg>\n",
              "  </button>\n",
              "\n",
              "<style>\n",
              "  .colab-df-quickchart {\n",
              "      --bg-color: #E8F0FE;\n",
              "      --fill-color: #1967D2;\n",
              "      --hover-bg-color: #E2EBFA;\n",
              "      --hover-fill-color: #174EA6;\n",
              "      --disabled-fill-color: #AAA;\n",
              "      --disabled-bg-color: #DDD;\n",
              "  }\n",
              "\n",
              "  [theme=dark] .colab-df-quickchart {\n",
              "      --bg-color: #3B4455;\n",
              "      --fill-color: #D2E3FC;\n",
              "      --hover-bg-color: #434B5C;\n",
              "      --hover-fill-color: #FFFFFF;\n",
              "      --disabled-bg-color: #3B4455;\n",
              "      --disabled-fill-color: #666;\n",
              "  }\n",
              "\n",
              "  .colab-df-quickchart {\n",
              "    background-color: var(--bg-color);\n",
              "    border: none;\n",
              "    border-radius: 50%;\n",
              "    cursor: pointer;\n",
              "    display: none;\n",
              "    fill: var(--fill-color);\n",
              "    height: 32px;\n",
              "    padding: 0;\n",
              "    width: 32px;\n",
              "  }\n",
              "\n",
              "  .colab-df-quickchart:hover {\n",
              "    background-color: var(--hover-bg-color);\n",
              "    box-shadow: 0 1px 2px rgba(60, 64, 67, 0.3), 0 1px 3px 1px rgba(60, 64, 67, 0.15);\n",
              "    fill: var(--button-hover-fill-color);\n",
              "  }\n",
              "\n",
              "  .colab-df-quickchart-complete:disabled,\n",
              "  .colab-df-quickchart-complete:disabled:hover {\n",
              "    background-color: var(--disabled-bg-color);\n",
              "    fill: var(--disabled-fill-color);\n",
              "    box-shadow: none;\n",
              "  }\n",
              "\n",
              "  .colab-df-spinner {\n",
              "    border: 2px solid var(--fill-color);\n",
              "    border-color: transparent;\n",
              "    border-bottom-color: var(--fill-color);\n",
              "    animation:\n",
              "      spin 1s steps(1) infinite;\n",
              "  }\n",
              "\n",
              "  @keyframes spin {\n",
              "    0% {\n",
              "      border-color: transparent;\n",
              "      border-bottom-color: var(--fill-color);\n",
              "      border-left-color: var(--fill-color);\n",
              "    }\n",
              "    20% {\n",
              "      border-color: transparent;\n",
              "      border-left-color: var(--fill-color);\n",
              "      border-top-color: var(--fill-color);\n",
              "    }\n",
              "    30% {\n",
              "      border-color: transparent;\n",
              "      border-left-color: var(--fill-color);\n",
              "      border-top-color: var(--fill-color);\n",
              "      border-right-color: var(--fill-color);\n",
              "    }\n",
              "    40% {\n",
              "      border-color: transparent;\n",
              "      border-right-color: var(--fill-color);\n",
              "      border-top-color: var(--fill-color);\n",
              "    }\n",
              "    60% {\n",
              "      border-color: transparent;\n",
              "      border-right-color: var(--fill-color);\n",
              "    }\n",
              "    80% {\n",
              "      border-color: transparent;\n",
              "      border-right-color: var(--fill-color);\n",
              "      border-bottom-color: var(--fill-color);\n",
              "    }\n",
              "    90% {\n",
              "      border-color: transparent;\n",
              "      border-bottom-color: var(--fill-color);\n",
              "    }\n",
              "  }\n",
              "</style>\n",
              "\n",
              "  <script>\n",
              "    async function quickchart(key) {\n",
              "      const quickchartButtonEl =\n",
              "        document.querySelector('#' + key + ' button');\n",
              "      quickchartButtonEl.disabled = true;  // To prevent multiple clicks.\n",
              "      quickchartButtonEl.classList.add('colab-df-spinner');\n",
              "      try {\n",
              "        const charts = await google.colab.kernel.invokeFunction(\n",
              "            'suggestCharts', [key], {});\n",
              "      } catch (error) {\n",
              "        console.error('Error during call to suggestCharts:', error);\n",
              "      }\n",
              "      quickchartButtonEl.classList.remove('colab-df-spinner');\n",
              "      quickchartButtonEl.classList.add('colab-df-quickchart-complete');\n",
              "    }\n",
              "    (() => {\n",
              "      let quickchartButtonEl =\n",
              "        document.querySelector('#df-c72749f6-489c-44bd-9dc0-3f57b72f8cbf button');\n",
              "      quickchartButtonEl.style.display =\n",
              "        google.colab.kernel.accessAllowed ? 'block' : 'none';\n",
              "    })();\n",
              "  </script>\n",
              "</div>\n",
              "\n",
              "    </div>\n",
              "  </div>\n"
            ],
            "application/vnd.google.colaboratory.intrinsic+json": {
              "type": "dataframe",
              "variable_name": "features",
              "summary": "{\n  \"name\": \"features\",\n  \"rows\": 365,\n  \"fields\": [\n    {\n      \"column\": \"YEAR\",\n      \"properties\": {\n        \"dtype\": \"number\",\n        \"std\": 0,\n        \"min\": 2018,\n        \"max\": 2018,\n        \"num_unique_values\": 1,\n        \"samples\": [\n          2018\n        ],\n        \"semantic_type\": \"\",\n        \"description\": \"\"\n      }\n    },\n    {\n      \"column\": \"MONTH\",\n      \"properties\": {\n        \"dtype\": \"number\",\n        \"std\": 3,\n        \"min\": 1,\n        \"max\": 12,\n        \"num_unique_values\": 12,\n        \"samples\": [\n          11\n        ],\n        \"semantic_type\": \"\",\n        \"description\": \"\"\n      }\n    },\n    {\n      \"column\": \"DAY\",\n      \"properties\": {\n        \"dtype\": \"number\",\n        \"std\": 8,\n        \"min\": 1,\n        \"max\": 31,\n        \"num_unique_values\": 31,\n        \"samples\": [\n          28\n        ],\n        \"semantic_type\": \"\",\n        \"description\": \"\"\n      }\n    },\n    {\n      \"column\": \"TMAX\",\n      \"properties\": {\n        \"dtype\": \"number\",\n        \"std\": 18,\n        \"min\": 15,\n        \"max\": 101,\n        \"num_unique_values\": 73,\n        \"samples\": [\n          50\n        ],\n        \"semantic_type\": \"\",\n        \"description\": \"\"\n      }\n    },\n    {\n      \"column\": \"TMIN\",\n      \"properties\": {\n        \"dtype\": \"number\",\n        \"std\": 16,\n        \"min\": -3,\n        \"max\": 68,\n        \"num_unique_values\": 65,\n        \"samples\": [\n          53\n        ],\n        \"semantic_type\": \"\",\n        \"description\": \"\"\n      }\n    },\n    {\n      \"column\": \"TMAX_1d\",\n      \"properties\": {\n        \"dtype\": \"number\",\n        \"std\": 18,\n        \"min\": 15,\n        \"max\": 101,\n        \"num_unique_values\": 73,\n        \"samples\": [\n          51\n        ],\n        \"semantic_type\": \"\",\n        \"description\": \"\"\n      }\n    },\n    {\n      \"column\": \"TMAX_2d\",\n      \"properties\": {\n        \"dtype\": \"number\",\n        \"std\": 18,\n        \"min\": 15,\n        \"max\": 101,\n        \"num_unique_values\": 74,\n        \"samples\": [\n          47\n        ],\n        \"semantic_type\": \"\",\n        \"description\": \"\"\n      }\n    },\n    {\n      \"column\": \"TMAX_BD\",\n      \"properties\": {\n        \"dtype\": \"number\",\n        \"std\": 17,\n        \"min\": 15,\n        \"max\": 98,\n        \"num_unique_values\": 68,\n        \"samples\": [\n          84\n        ],\n        \"semantic_type\": \"\",\n        \"description\": \"\"\n      }\n    },\n    {\n      \"column\": \"TMAX_SF\",\n      \"properties\": {\n        \"dtype\": \"number\",\n        \"std\": 6,\n        \"min\": 51,\n        \"max\": 83,\n        \"num_unique_values\": 32,\n        \"samples\": [\n          78\n        ],\n        \"semantic_type\": \"\",\n        \"description\": \"\"\n      }\n    },\n    {\n      \"column\": \"PRCP\",\n      \"properties\": {\n        \"dtype\": \"number\",\n        \"std\": 0.14723887552870574,\n        \"min\": 0.0,\n        \"max\": 1.74,\n        \"num_unique_values\": 35,\n        \"samples\": [\n          0.43\n        ],\n        \"semantic_type\": \"\",\n        \"description\": \"\"\n      }\n    },\n    {\n      \"column\": \"TMAX_CLIM\",\n      \"properties\": {\n        \"dtype\": \"number\",\n        \"std\": 15.407528398685978,\n        \"min\": 42.1,\n        \"max\": 87.1,\n        \"num_unique_values\": 261,\n        \"samples\": [\n          48.7\n        ],\n        \"semantic_type\": \"\",\n        \"description\": \"\"\n      }\n    }\n  ]\n}"
            }
          },
          "metadata": {},
          "execution_count": 3
        }
      ]
    },
    {
      "cell_type": "markdown",
      "metadata": {
        "id": "PXuydX9mB-PT"
      },
      "source": [
        "You will notice we have 365 days of features and labels (complete set from 2018). Our second features axis is the columns of the pandas dataframe. These columns represent the year, month, day, maximum temperature, minimum temperature, max temp from day before, max temp from two days prior, max temperature in Boulder, max temperature in San Francisco, precipitation, and climatological maximum.\n",
        "\n",
        "The max temperature column (TMAX) is actually our label: the observed max temperature at Fort Collins."
      ]
    },
    {
      "cell_type": "markdown",
      "metadata": {
        "id": "7wwy-d38CtbZ"
      },
      "source": [
        "We can look quickly at some basic statistics of our data, such as mean, standard deviation, percentiles, etc. in a table format"
      ]
    },
    {
      "cell_type": "code",
      "metadata": {
        "outputId": "3a68054a-a392-43a5-b04b-f3298d0af641",
        "id": "yZSlkf1u2ZyU",
        "colab": {
          "base_uri": "https://localhost:8080/",
          "height": 320
        }
      },
      "source": [
        "# A handy tool in pandas: descriptive statistics for each column\n",
        "features.describe()"
      ],
      "execution_count": 4,
      "outputs": [
        {
          "output_type": "execute_result",
          "data": {
            "text/plain": [
              "         YEAR       MONTH         DAY        TMAX        TMIN     TMAX_1d  \\\n",
              "count   365.0  365.000000  365.000000  365.000000  365.000000  365.000000   \n",
              "mean   2018.0    6.526027   15.720548   65.652055   37.389041   65.627397   \n",
              "std       0.0    3.452584    8.808321   18.372280   16.232409   18.412798   \n",
              "min    2018.0    1.000000    1.000000   15.000000   -3.000000   15.000000   \n",
              "25%    2018.0    4.000000    8.000000   50.000000   24.000000   50.000000   \n",
              "50%    2018.0    7.000000   16.000000   65.000000   37.000000   65.000000   \n",
              "75%    2018.0   10.000000   23.000000   82.000000   52.000000   82.000000   \n",
              "max    2018.0   12.000000   31.000000  101.000000   68.000000  101.000000   \n",
              "\n",
              "          TMAX_2d     TMAX_BD     TMAX_SF        PRCP   TMAX_CLIM  \n",
              "count  365.000000  365.000000  365.000000  365.000000  365.000000  \n",
              "mean    65.564384   66.876712   63.904110    0.037260   63.738356  \n",
              "std     18.515789   17.882819    6.004038    0.147239   15.407528  \n",
              "min     15.000000   15.000000   51.000000    0.000000   42.100000  \n",
              "25%     50.000000   52.000000   60.000000    0.000000   48.100000  \n",
              "50%     65.000000   66.000000   63.000000    0.000000   63.000000  \n",
              "75%     82.000000   83.000000   67.000000    0.000000   78.500000  \n",
              "max    101.000000   98.000000   83.000000    1.740000   87.100000  "
            ],
            "text/html": [
              "\n",
              "  <div id=\"df-124ab9ff-9e25-45c9-abf1-6c5238fae1f5\" class=\"colab-df-container\">\n",
              "    <div>\n",
              "<style scoped>\n",
              "    .dataframe tbody tr th:only-of-type {\n",
              "        vertical-align: middle;\n",
              "    }\n",
              "\n",
              "    .dataframe tbody tr th {\n",
              "        vertical-align: top;\n",
              "    }\n",
              "\n",
              "    .dataframe thead th {\n",
              "        text-align: right;\n",
              "    }\n",
              "</style>\n",
              "<table border=\"1\" class=\"dataframe\">\n",
              "  <thead>\n",
              "    <tr style=\"text-align: right;\">\n",
              "      <th></th>\n",
              "      <th>YEAR</th>\n",
              "      <th>MONTH</th>\n",
              "      <th>DAY</th>\n",
              "      <th>TMAX</th>\n",
              "      <th>TMIN</th>\n",
              "      <th>TMAX_1d</th>\n",
              "      <th>TMAX_2d</th>\n",
              "      <th>TMAX_BD</th>\n",
              "      <th>TMAX_SF</th>\n",
              "      <th>PRCP</th>\n",
              "      <th>TMAX_CLIM</th>\n",
              "    </tr>\n",
              "  </thead>\n",
              "  <tbody>\n",
              "    <tr>\n",
              "      <th>count</th>\n",
              "      <td>365.0</td>\n",
              "      <td>365.000000</td>\n",
              "      <td>365.000000</td>\n",
              "      <td>365.000000</td>\n",
              "      <td>365.000000</td>\n",
              "      <td>365.000000</td>\n",
              "      <td>365.000000</td>\n",
              "      <td>365.000000</td>\n",
              "      <td>365.000000</td>\n",
              "      <td>365.000000</td>\n",
              "      <td>365.000000</td>\n",
              "    </tr>\n",
              "    <tr>\n",
              "      <th>mean</th>\n",
              "      <td>2018.0</td>\n",
              "      <td>6.526027</td>\n",
              "      <td>15.720548</td>\n",
              "      <td>65.652055</td>\n",
              "      <td>37.389041</td>\n",
              "      <td>65.627397</td>\n",
              "      <td>65.564384</td>\n",
              "      <td>66.876712</td>\n",
              "      <td>63.904110</td>\n",
              "      <td>0.037260</td>\n",
              "      <td>63.738356</td>\n",
              "    </tr>\n",
              "    <tr>\n",
              "      <th>std</th>\n",
              "      <td>0.0</td>\n",
              "      <td>3.452584</td>\n",
              "      <td>8.808321</td>\n",
              "      <td>18.372280</td>\n",
              "      <td>16.232409</td>\n",
              "      <td>18.412798</td>\n",
              "      <td>18.515789</td>\n",
              "      <td>17.882819</td>\n",
              "      <td>6.004038</td>\n",
              "      <td>0.147239</td>\n",
              "      <td>15.407528</td>\n",
              "    </tr>\n",
              "    <tr>\n",
              "      <th>min</th>\n",
              "      <td>2018.0</td>\n",
              "      <td>1.000000</td>\n",
              "      <td>1.000000</td>\n",
              "      <td>15.000000</td>\n",
              "      <td>-3.000000</td>\n",
              "      <td>15.000000</td>\n",
              "      <td>15.000000</td>\n",
              "      <td>15.000000</td>\n",
              "      <td>51.000000</td>\n",
              "      <td>0.000000</td>\n",
              "      <td>42.100000</td>\n",
              "    </tr>\n",
              "    <tr>\n",
              "      <th>25%</th>\n",
              "      <td>2018.0</td>\n",
              "      <td>4.000000</td>\n",
              "      <td>8.000000</td>\n",
              "      <td>50.000000</td>\n",
              "      <td>24.000000</td>\n",
              "      <td>50.000000</td>\n",
              "      <td>50.000000</td>\n",
              "      <td>52.000000</td>\n",
              "      <td>60.000000</td>\n",
              "      <td>0.000000</td>\n",
              "      <td>48.100000</td>\n",
              "    </tr>\n",
              "    <tr>\n",
              "      <th>50%</th>\n",
              "      <td>2018.0</td>\n",
              "      <td>7.000000</td>\n",
              "      <td>16.000000</td>\n",
              "      <td>65.000000</td>\n",
              "      <td>37.000000</td>\n",
              "      <td>65.000000</td>\n",
              "      <td>65.000000</td>\n",
              "      <td>66.000000</td>\n",
              "      <td>63.000000</td>\n",
              "      <td>0.000000</td>\n",
              "      <td>63.000000</td>\n",
              "    </tr>\n",
              "    <tr>\n",
              "      <th>75%</th>\n",
              "      <td>2018.0</td>\n",
              "      <td>10.000000</td>\n",
              "      <td>23.000000</td>\n",
              "      <td>82.000000</td>\n",
              "      <td>52.000000</td>\n",
              "      <td>82.000000</td>\n",
              "      <td>82.000000</td>\n",
              "      <td>83.000000</td>\n",
              "      <td>67.000000</td>\n",
              "      <td>0.000000</td>\n",
              "      <td>78.500000</td>\n",
              "    </tr>\n",
              "    <tr>\n",
              "      <th>max</th>\n",
              "      <td>2018.0</td>\n",
              "      <td>12.000000</td>\n",
              "      <td>31.000000</td>\n",
              "      <td>101.000000</td>\n",
              "      <td>68.000000</td>\n",
              "      <td>101.000000</td>\n",
              "      <td>101.000000</td>\n",
              "      <td>98.000000</td>\n",
              "      <td>83.000000</td>\n",
              "      <td>1.740000</td>\n",
              "      <td>87.100000</td>\n",
              "    </tr>\n",
              "  </tbody>\n",
              "</table>\n",
              "</div>\n",
              "    <div class=\"colab-df-buttons\">\n",
              "\n",
              "  <div class=\"colab-df-container\">\n",
              "    <button class=\"colab-df-convert\" onclick=\"convertToInteractive('df-124ab9ff-9e25-45c9-abf1-6c5238fae1f5')\"\n",
              "            title=\"Convert this dataframe to an interactive table.\"\n",
              "            style=\"display:none;\">\n",
              "\n",
              "  <svg xmlns=\"http://www.w3.org/2000/svg\" height=\"24px\" viewBox=\"0 -960 960 960\">\n",
              "    <path d=\"M120-120v-720h720v720H120Zm60-500h600v-160H180v160Zm220 220h160v-160H400v160Zm0 220h160v-160H400v160ZM180-400h160v-160H180v160Zm440 0h160v-160H620v160ZM180-180h160v-160H180v160Zm440 0h160v-160H620v160Z\"/>\n",
              "  </svg>\n",
              "    </button>\n",
              "\n",
              "  <style>\n",
              "    .colab-df-container {\n",
              "      display:flex;\n",
              "      gap: 12px;\n",
              "    }\n",
              "\n",
              "    .colab-df-convert {\n",
              "      background-color: #E8F0FE;\n",
              "      border: none;\n",
              "      border-radius: 50%;\n",
              "      cursor: pointer;\n",
              "      display: none;\n",
              "      fill: #1967D2;\n",
              "      height: 32px;\n",
              "      padding: 0 0 0 0;\n",
              "      width: 32px;\n",
              "    }\n",
              "\n",
              "    .colab-df-convert:hover {\n",
              "      background-color: #E2EBFA;\n",
              "      box-shadow: 0px 1px 2px rgba(60, 64, 67, 0.3), 0px 1px 3px 1px rgba(60, 64, 67, 0.15);\n",
              "      fill: #174EA6;\n",
              "    }\n",
              "\n",
              "    .colab-df-buttons div {\n",
              "      margin-bottom: 4px;\n",
              "    }\n",
              "\n",
              "    [theme=dark] .colab-df-convert {\n",
              "      background-color: #3B4455;\n",
              "      fill: #D2E3FC;\n",
              "    }\n",
              "\n",
              "    [theme=dark] .colab-df-convert:hover {\n",
              "      background-color: #434B5C;\n",
              "      box-shadow: 0px 1px 3px 1px rgba(0, 0, 0, 0.15);\n",
              "      filter: drop-shadow(0px 1px 2px rgba(0, 0, 0, 0.3));\n",
              "      fill: #FFFFFF;\n",
              "    }\n",
              "  </style>\n",
              "\n",
              "    <script>\n",
              "      const buttonEl =\n",
              "        document.querySelector('#df-124ab9ff-9e25-45c9-abf1-6c5238fae1f5 button.colab-df-convert');\n",
              "      buttonEl.style.display =\n",
              "        google.colab.kernel.accessAllowed ? 'block' : 'none';\n",
              "\n",
              "      async function convertToInteractive(key) {\n",
              "        const element = document.querySelector('#df-124ab9ff-9e25-45c9-abf1-6c5238fae1f5');\n",
              "        const dataTable =\n",
              "          await google.colab.kernel.invokeFunction('convertToInteractive',\n",
              "                                                    [key], {});\n",
              "        if (!dataTable) return;\n",
              "\n",
              "        const docLinkHtml = 'Like what you see? Visit the ' +\n",
              "          '<a target=\"_blank\" href=https://colab.research.google.com/notebooks/data_table.ipynb>data table notebook</a>'\n",
              "          + ' to learn more about interactive tables.';\n",
              "        element.innerHTML = '';\n",
              "        dataTable['output_type'] = 'display_data';\n",
              "        await google.colab.output.renderOutput(dataTable, element);\n",
              "        const docLink = document.createElement('div');\n",
              "        docLink.innerHTML = docLinkHtml;\n",
              "        element.appendChild(docLink);\n",
              "      }\n",
              "    </script>\n",
              "  </div>\n",
              "\n",
              "\n",
              "<div id=\"df-b8d83c1d-8f22-4a6f-a8e9-eb26b1ce801f\">\n",
              "  <button class=\"colab-df-quickchart\" onclick=\"quickchart('df-b8d83c1d-8f22-4a6f-a8e9-eb26b1ce801f')\"\n",
              "            title=\"Suggest charts\"\n",
              "            style=\"display:none;\">\n",
              "\n",
              "<svg xmlns=\"http://www.w3.org/2000/svg\" height=\"24px\"viewBox=\"0 0 24 24\"\n",
              "     width=\"24px\">\n",
              "    <g>\n",
              "        <path d=\"M19 3H5c-1.1 0-2 .9-2 2v14c0 1.1.9 2 2 2h14c1.1 0 2-.9 2-2V5c0-1.1-.9-2-2-2zM9 17H7v-7h2v7zm4 0h-2V7h2v10zm4 0h-2v-4h2v4z\"/>\n",
              "    </g>\n",
              "</svg>\n",
              "  </button>\n",
              "\n",
              "<style>\n",
              "  .colab-df-quickchart {\n",
              "      --bg-color: #E8F0FE;\n",
              "      --fill-color: #1967D2;\n",
              "      --hover-bg-color: #E2EBFA;\n",
              "      --hover-fill-color: #174EA6;\n",
              "      --disabled-fill-color: #AAA;\n",
              "      --disabled-bg-color: #DDD;\n",
              "  }\n",
              "\n",
              "  [theme=dark] .colab-df-quickchart {\n",
              "      --bg-color: #3B4455;\n",
              "      --fill-color: #D2E3FC;\n",
              "      --hover-bg-color: #434B5C;\n",
              "      --hover-fill-color: #FFFFFF;\n",
              "      --disabled-bg-color: #3B4455;\n",
              "      --disabled-fill-color: #666;\n",
              "  }\n",
              "\n",
              "  .colab-df-quickchart {\n",
              "    background-color: var(--bg-color);\n",
              "    border: none;\n",
              "    border-radius: 50%;\n",
              "    cursor: pointer;\n",
              "    display: none;\n",
              "    fill: var(--fill-color);\n",
              "    height: 32px;\n",
              "    padding: 0;\n",
              "    width: 32px;\n",
              "  }\n",
              "\n",
              "  .colab-df-quickchart:hover {\n",
              "    background-color: var(--hover-bg-color);\n",
              "    box-shadow: 0 1px 2px rgba(60, 64, 67, 0.3), 0 1px 3px 1px rgba(60, 64, 67, 0.15);\n",
              "    fill: var(--button-hover-fill-color);\n",
              "  }\n",
              "\n",
              "  .colab-df-quickchart-complete:disabled,\n",
              "  .colab-df-quickchart-complete:disabled:hover {\n",
              "    background-color: var(--disabled-bg-color);\n",
              "    fill: var(--disabled-fill-color);\n",
              "    box-shadow: none;\n",
              "  }\n",
              "\n",
              "  .colab-df-spinner {\n",
              "    border: 2px solid var(--fill-color);\n",
              "    border-color: transparent;\n",
              "    border-bottom-color: var(--fill-color);\n",
              "    animation:\n",
              "      spin 1s steps(1) infinite;\n",
              "  }\n",
              "\n",
              "  @keyframes spin {\n",
              "    0% {\n",
              "      border-color: transparent;\n",
              "      border-bottom-color: var(--fill-color);\n",
              "      border-left-color: var(--fill-color);\n",
              "    }\n",
              "    20% {\n",
              "      border-color: transparent;\n",
              "      border-left-color: var(--fill-color);\n",
              "      border-top-color: var(--fill-color);\n",
              "    }\n",
              "    30% {\n",
              "      border-color: transparent;\n",
              "      border-left-color: var(--fill-color);\n",
              "      border-top-color: var(--fill-color);\n",
              "      border-right-color: var(--fill-color);\n",
              "    }\n",
              "    40% {\n",
              "      border-color: transparent;\n",
              "      border-right-color: var(--fill-color);\n",
              "      border-top-color: var(--fill-color);\n",
              "    }\n",
              "    60% {\n",
              "      border-color: transparent;\n",
              "      border-right-color: var(--fill-color);\n",
              "    }\n",
              "    80% {\n",
              "      border-color: transparent;\n",
              "      border-right-color: var(--fill-color);\n",
              "      border-bottom-color: var(--fill-color);\n",
              "    }\n",
              "    90% {\n",
              "      border-color: transparent;\n",
              "      border-bottom-color: var(--fill-color);\n",
              "    }\n",
              "  }\n",
              "</style>\n",
              "\n",
              "  <script>\n",
              "    async function quickchart(key) {\n",
              "      const quickchartButtonEl =\n",
              "        document.querySelector('#' + key + ' button');\n",
              "      quickchartButtonEl.disabled = true;  // To prevent multiple clicks.\n",
              "      quickchartButtonEl.classList.add('colab-df-spinner');\n",
              "      try {\n",
              "        const charts = await google.colab.kernel.invokeFunction(\n",
              "            'suggestCharts', [key], {});\n",
              "      } catch (error) {\n",
              "        console.error('Error during call to suggestCharts:', error);\n",
              "      }\n",
              "      quickchartButtonEl.classList.remove('colab-df-spinner');\n",
              "      quickchartButtonEl.classList.add('colab-df-quickchart-complete');\n",
              "    }\n",
              "    (() => {\n",
              "      let quickchartButtonEl =\n",
              "        document.querySelector('#df-b8d83c1d-8f22-4a6f-a8e9-eb26b1ce801f button');\n",
              "      quickchartButtonEl.style.display =\n",
              "        google.colab.kernel.accessAllowed ? 'block' : 'none';\n",
              "    })();\n",
              "  </script>\n",
              "</div>\n",
              "\n",
              "    </div>\n",
              "  </div>\n"
            ],
            "application/vnd.google.colaboratory.intrinsic+json": {
              "type": "dataframe",
              "summary": "{\n  \"name\": \"features\",\n  \"rows\": 8,\n  \"fields\": [\n    {\n      \"column\": \"YEAR\",\n      \"properties\": {\n        \"dtype\": \"number\",\n        \"std\": 855.252917897056,\n        \"min\": 0.0,\n        \"max\": 2018.0,\n        \"num_unique_values\": 3,\n        \"samples\": [\n          365.0,\n          2018.0,\n          0.0\n        ],\n        \"semantic_type\": \"\",\n        \"description\": \"\"\n      }\n    },\n    {\n      \"column\": \"MONTH\",\n      \"properties\": {\n        \"dtype\": \"number\",\n        \"std\": 126.87540079295492,\n        \"min\": 1.0,\n        \"max\": 365.0,\n        \"num_unique_values\": 8,\n        \"samples\": [\n          6.526027397260274,\n          7.0,\n          365.0\n        ],\n        \"semantic_type\": \"\",\n        \"description\": \"\"\n      }\n    },\n    {\n      \"column\": \"DAY\",\n      \"properties\": {\n        \"dtype\": \"number\",\n        \"std\": 124.16625344966374,\n        \"min\": 1.0,\n        \"max\": 365.0,\n        \"num_unique_values\": 8,\n        \"samples\": [\n          15.72054794520548,\n          16.0,\n          365.0\n        ],\n        \"semantic_type\": \"\",\n        \"description\": \"\"\n      }\n    },\n    {\n      \"column\": \"TMAX\",\n      \"properties\": {\n        \"dtype\": \"number\",\n        \"std\": 112.86059482351179,\n        \"min\": 15.0,\n        \"max\": 365.0,\n        \"num_unique_values\": 8,\n        \"samples\": [\n          65.65205479452055,\n          65.0,\n          365.0\n        ],\n        \"semantic_type\": \"\",\n        \"description\": \"\"\n      }\n    },\n    {\n      \"column\": \"TMIN\",\n      \"properties\": {\n        \"dtype\": \"number\",\n        \"std\": 119.32775225373908,\n        \"min\": -3.0,\n        \"max\": 365.0,\n        \"num_unique_values\": 8,\n        \"samples\": [\n          37.38904109589041,\n          37.0,\n          365.0\n        ],\n        \"semantic_type\": \"\",\n        \"description\": \"\"\n      }\n    },\n    {\n      \"column\": \"TMAX_1d\",\n      \"properties\": {\n        \"dtype\": \"number\",\n        \"std\": 112.85757716430243,\n        \"min\": 15.0,\n        \"max\": 365.0,\n        \"num_unique_values\": 8,\n        \"samples\": [\n          65.62739726027397,\n          65.0,\n          365.0\n        ],\n        \"semantic_type\": \"\",\n        \"description\": \"\"\n      }\n    },\n    {\n      \"column\": \"TMAX_2d\",\n      \"properties\": {\n        \"dtype\": \"number\",\n        \"std\": 112.84993142459835,\n        \"min\": 15.0,\n        \"max\": 365.0,\n        \"num_unique_values\": 8,\n        \"samples\": [\n          65.56438356164384,\n          65.0,\n          365.0\n        ],\n        \"semantic_type\": \"\",\n        \"description\": \"\"\n      }\n    },\n    {\n      \"column\": \"TMAX_BD\",\n      \"properties\": {\n        \"dtype\": \"number\",\n        \"std\": 112.68110009541411,\n        \"min\": 15.0,\n        \"max\": 365.0,\n        \"num_unique_values\": 8,\n        \"samples\": [\n          66.87671232876713,\n          66.0,\n          365.0\n        ],\n        \"semantic_type\": \"\",\n        \"description\": \"\"\n      }\n    },\n    {\n      \"column\": \"TMAX_SF\",\n      \"properties\": {\n        \"dtype\": \"number\",\n        \"std\": 111.41946908510238,\n        \"min\": 6.004037980881645,\n        \"max\": 365.0,\n        \"num_unique_values\": 8,\n        \"samples\": [\n          63.9041095890411,\n          63.0,\n          365.0\n        ],\n        \"semantic_type\": \"\",\n        \"description\": \"\"\n      }\n    },\n    {\n      \"column\": \"PRCP\",\n      \"properties\": {\n        \"dtype\": \"number\",\n        \"std\": 128.95118243411807,\n        \"min\": 0.0,\n        \"max\": 365.0,\n        \"num_unique_values\": 5,\n        \"samples\": [\n          0.037260273972602745,\n          1.74,\n          0.14723887552870574\n        ],\n        \"semantic_type\": \"\",\n        \"description\": \"\"\n      }\n    },\n    {\n      \"column\": \"TMAX_CLIM\",\n      \"properties\": {\n        \"dtype\": \"number\",\n        \"std\": 111.2062736741493,\n        \"min\": 15.407528398685978,\n        \"max\": 365.0,\n        \"num_unique_values\": 8,\n        \"samples\": [\n          63.73835616438356,\n          63.0,\n          365.0\n        ],\n        \"semantic_type\": \"\",\n        \"description\": \"\"\n      }\n    }\n  ]\n}"
            }
          },
          "metadata": {},
          "execution_count": 4
        }
      ]
    },
    {
      "cell_type": "markdown",
      "metadata": {
        "id": "SfiUkqp6C-co"
      },
      "source": [
        "We have made it so that there is not much to clean up in this dataset...however you may run into a scenario where days are missing, values are missing, etc. wherein you need to remove bad features, labels, or examples (i.e., days of observations). It is often said that 80% of machine learning is the preprocessing of your data.\n"
      ]
    },
    {
      "cell_type": "markdown",
      "metadata": {
        "id": "6vLWjiNs4OB7"
      },
      "source": [
        "### 1.2 Targets and features"
      ]
    },
    {
      "cell_type": "markdown",
      "metadata": {
        "id": "WsaFBLnKDPbK"
      },
      "source": [
        "The pandas table is handy for a quick glance, but we need to organize some numpy arrays that separately contain our features and labels."
      ]
    },
    {
      "cell_type": "code",
      "metadata": {
        "id": "dlt6GqYwhgnV"
      },
      "source": [
        "# Labels are the values we want to predict\n",
        "labels = np.array(features['TMAX'])\n",
        "\n",
        "# Remove the labels from the features\n",
        "# axis 1 refers to the columns\n",
        "features = features.drop('TMAX', axis = 1)\n",
        "\n",
        "# Also remove TMAX_BD for later use, you will understand later\n",
        "features = features.drop('TMAX_BD', axis = 1)\n",
        "\n",
        "# Saving feature names for later use\n",
        "feature_list = list(features.columns)\n",
        "\n",
        "# Convert to numpy array\n",
        "features = np.array(features)"
      ],
      "execution_count": 5,
      "outputs": []
    },
    {
      "cell_type": "code",
      "source": [
        "features"
      ],
      "metadata": {
        "colab": {
          "base_uri": "https://localhost:8080/"
        },
        "id": "NtWZ-0EFjpCr",
        "outputId": "e58cc643-7f81-43f2-8c0e-f556a8bf3423"
      },
      "execution_count": 6,
      "outputs": [
        {
          "output_type": "execute_result",
          "data": {
            "text/plain": [
              "array([[2.018e+03, 1.000e+00, 1.000e+00, ..., 6.100e+01, 0.000e+00,\n",
              "        4.350e+01],\n",
              "       [2.018e+03, 1.000e+00, 2.000e+00, ..., 6.100e+01, 0.000e+00,\n",
              "        4.360e+01],\n",
              "       [2.018e+03, 1.000e+00, 3.000e+00, ..., 5.800e+01, 0.000e+00,\n",
              "        4.370e+01],\n",
              "       ...,\n",
              "       [2.018e+03, 1.200e+01, 2.900e+01, ..., 6.000e+01, 0.000e+00,\n",
              "        4.310e+01],\n",
              "       [2.018e+03, 1.200e+01, 3.000e+01, ..., 5.900e+01, 0.000e+00,\n",
              "        4.320e+01],\n",
              "       [2.018e+03, 1.200e+01, 3.100e+01, ..., 5.600e+01, 1.000e-02,\n",
              "        4.340e+01]])"
            ]
          },
          "metadata": {},
          "execution_count": 6
        }
      ]
    },
    {
      "cell_type": "markdown",
      "metadata": {
        "id": "8pRuZk-AhjAP"
      },
      "source": [
        "### 1.3 Splitting training and testing datasets"
      ]
    },
    {
      "cell_type": "markdown",
      "metadata": {
        "id": "95YMbR1YDcqT"
      },
      "source": [
        "Assuming we have no feature data available from 2019 we could use to test our trained models against, we will want to split up our dataset into training and testing portions. A standard proportion is 3/4 for training, 1/4 for testing, although this is somewhat arbitrary here."
      ]
    },
    {
      "cell_type": "code",
      "metadata": {
        "id": "ggg3rkEphk2N"
      },
      "source": [
        "# Split the data into training and testing sets\n",
        "\n",
        "# Tunable Parameter: Describes the proportion of the dataset we want to use for testing. 1 - split_size is used for training.\n",
        "split_size = 0.25\n",
        "\n",
        "# PARAMETERS:\n",
        "#     test_size: fraction of testing/validation datasets\n",
        "#     random_state: random parameter\n",
        "train_features, test_features, train_labels, test_labels = train_test_split(features, labels, test_size = split_size, random_state = 42)"
      ],
      "execution_count": 7,
      "outputs": []
    },
    {
      "cell_type": "markdown",
      "metadata": {
        "id": "SfMNcTlSD7sn"
      },
      "source": [
        "Lets quickly check the size of our training and testing arrays are what we expect (and we didn't do something wrong)"
      ]
    },
    {
      "cell_type": "code",
      "metadata": {
        "id": "ZHsogVIIhm5X",
        "outputId": "3c63cd4a-7934-4831-b3b1-abfb4f5a9f2d",
        "colab": {
          "base_uri": "https://localhost:8080/"
        }
      },
      "source": [
        "print('Training Features Shape:', train_features.shape)\n",
        "print('Training Labels Shape:', train_labels.shape)\n",
        "print('Testing Features Shape:', test_features.shape)\n",
        "print('Testing Labels Shape:', test_labels.shape)"
      ],
      "execution_count": 8,
      "outputs": [
        {
          "output_type": "stream",
          "name": "stdout",
          "text": [
            "Training Features Shape: (273, 9)\n",
            "Training Labels Shape: (273,)\n",
            "Testing Features Shape: (92, 9)\n",
            "Testing Labels Shape: (92,)\n"
          ]
        }
      ]
    },
    {
      "cell_type": "markdown",
      "metadata": {
        "id": "PmnUiJhK4pQm"
      },
      "source": [
        "# 2. Playing with model"
      ]
    },
    {
      "cell_type": "markdown",
      "metadata": {
        "id": "T3e98qy3EFiw"
      },
      "source": [
        "OK, our data is now split up into features and labels, as well as training and testing chunks. Now we will work to train and evaluate our model.\n",
        "\n",
        "First, we need to know what our baseline skill is. Often, climatology is used and we will do just that, taking the climatological high temperature from the test features and evaluating it against the test labels"
      ]
    },
    {
      "cell_type": "markdown",
      "metadata": {
        "id": "KBGjm_YfhrFa"
      },
      "source": [
        "### 2.1 Establish Baseline"
      ]
    },
    {
      "cell_type": "code",
      "metadata": {
        "id": "noqg8gJBhr9T",
        "outputId": "ef09279d-1ee2-4930-ca9b-b137d80b5aa1",
        "colab": {
          "base_uri": "https://localhost:8080/"
        }
      },
      "source": [
        "# You need a baseline to quantify whether the model is useful\n",
        "\n",
        "# The baseline predictions here are the climatological values\n",
        "# Grab all rows for the 'TMAX_CLIM' column\n",
        "baseline_preds = test_features[:, feature_list.index('TMAX_CLIM')]\n",
        "\n",
        "# Baseline errors (mean absolute errors)\n",
        "mae_baseline_errors = abs(baseline_preds - test_labels)\n",
        "print('Baseline error (MAE): ', round(np.mean(mae_baseline_errors), 2))\n",
        "\n",
        "# Baseline errors (mean squared errors)\n",
        "mse_baseline_errors = np.sqrt(np.mean((baseline_preds - test_labels)**2))\n",
        "print('Baseline error (MSE): ', round(mse_baseline_errors, 2))"
      ],
      "execution_count": 9,
      "outputs": [
        {
          "output_type": "stream",
          "name": "stdout",
          "text": [
            "Baseline error (MAE):  7.56\n",
            "Baseline error (MSE):  9.3\n"
          ]
        }
      ]
    },
    {
      "cell_type": "markdown",
      "metadata": {
        "id": "1tXyAv3cE44l"
      },
      "source": [
        "Subjectively, these errors seem quite high, but as one might expect when trying to predict high temperatures from climatology. I think we can improve upon this with a RF model"
      ]
    },
    {
      "cell_type": "markdown",
      "metadata": {
        "id": "cpPHSkx3huwy"
      },
      "source": [
        "### 2.2 Train model"
      ]
    },
    {
      "cell_type": "markdown",
      "metadata": {
        "id": "mbua1xNdbm3M"
      },
      "source": [
        "As mentioned in the slides, there are a number of hyperparameters for RF models that we can tweak and tune to make the model perform better. We will start with a base set of hyperparameters that are defaults for the RF regression model in scikit-learn."
      ]
    },
    {
      "cell_type": "code",
      "metadata": {
        "id": "iJx8TDwJhvqm"
      },
      "source": [
        "# Tunable Parameters for Model\n",
        "number_of_trees = 10\n",
        "tree_depth = None\n",
        "node_split = 2       # minimum number of training samples needed to split a node\n",
        "leaf_samples = 1     # minimum number of training samples required to make a leaf node\n",
        "criterion = 'mse'    # variance reduction, alternatively 'mae'\n",
        "\n",
        "\n",
        "# Instantiate model with number of decision trees prescribed above\n",
        "# PARAMETERS:\n",
        "#     n_estimators: number of trees/ensembles\n",
        "#     random_state: random seed\n",
        "#     max_depth: maximum depth of each tree\n",
        "#     criterion: evaluation statistic to split a mode, 'mse'  or 'mae'\n",
        "#     min_samples_split: minimum number of samples needed to split a node\n",
        "#     min_samples_leaf: minimum number of samples needed to make a leaf\n",
        "#     for more, see: https://scikit-learn.org/stable/modules/generated/sklearn.ensemble.RandomForestRegressor.html#sklearn.ensemble.RandomForestRegressor\n",
        "rf = RandomForestRegressor(n_estimators = number_of_trees,\n",
        "                           random_state = 42,\n",
        "                           min_samples_split = node_split,\n",
        "                           min_samples_leaf = leaf_samples,\n",
        "                           criterion = criterion,\n",
        "                           max_depth = tree_depth)\n",
        "\n",
        "# Train the model on training data\n",
        "rf.fit(train_features, train_labels);"
      ],
      "execution_count": null,
      "outputs": []
    },
    {
      "cell_type": "code",
      "source": [
        "from sklearn.linear_model import LinearRegression, Lasso, Ridge, ElasticNet"
      ],
      "metadata": {
        "id": "6EgE9xJhj9iy"
      },
      "execution_count": 10,
      "outputs": []
    },
    {
      "cell_type": "code",
      "source": [
        "# Standardizing the training, testing, and validation data\n",
        "\n",
        "# This function takes a raw set of input fields (for example, the training,\n",
        "# validation, or testing arrays), and standardizes it based on the training data.\n",
        "\n",
        "standardize_input = lambda dat, x, s: (dat - x)/s\n",
        "\n",
        "# Calculate mean and standard deviation of the training data\n",
        "trainmean = train_features.mean(axis=0)\n",
        "trainstd  = train_features.std(axis=0)\n",
        "\n",
        "Xtrain = standardize_input(train_features, trainmean, trainstd)\n",
        "Xtest = standardize_input(test_features, trainmean, trainstd)"
      ],
      "metadata": {
        "colab": {
          "base_uri": "https://localhost:8080/"
        },
        "id": "z44HXYFkkSwZ",
        "outputId": "abdec1a1-6574-4606-8401-adac9149ba76"
      },
      "execution_count": 11,
      "outputs": [
        {
          "output_type": "stream",
          "name": "stderr",
          "text": [
            "<ipython-input-11-b87cb7f67d75>:6: RuntimeWarning: invalid value encountered in divide\n",
            "  standardize_input = lambda dat, x, s: (dat - x)/s\n"
          ]
        }
      ]
    },
    {
      "cell_type": "code",
      "source": [
        "trainstd"
      ],
      "metadata": {
        "colab": {
          "base_uri": "https://localhost:8080/"
        },
        "id": "c6cTbjBbkS1r",
        "outputId": "5795f17d-6a99-4861-9e52-d17cbd641b4a"
      },
      "execution_count": 14,
      "outputs": [
        {
          "output_type": "execute_result",
          "data": {
            "text/plain": [
              "array([ 0.        ,  3.32079516,  8.84776679, 16.13002738, 18.55933311,\n",
              "       18.41770262,  5.94035076,  0.15741149, 15.24818456])"
            ]
          },
          "metadata": {},
          "execution_count": 14
        }
      ]
    },
    {
      "cell_type": "code",
      "source": [],
      "metadata": {
        "id": "d-wLXXk6kS3y"
      },
      "execution_count": null,
      "outputs": []
    },
    {
      "cell_type": "markdown",
      "metadata": {
        "id": "FihfSUPbcBmr"
      },
      "source": [
        "Just a handful of lines of code to train the model. Easy peasy. Now lets make some predictions from our model"
      ]
    },
    {
      "cell_type": "markdown",
      "metadata": {
        "id": "S0_gSkHrhySe"
      },
      "source": [
        "### 2.3 Make predictions"
      ]
    },
    {
      "cell_type": "code",
      "metadata": {
        "id": "nj7-Y8xShz3C",
        "outputId": "35e31d91-d160-42e3-90ff-cbf2b7232930",
        "colab": {
          "base_uri": "https://localhost:8080/",
          "height": 82
        }
      },
      "source": [
        "# Use the forest's predict method on the test data\n",
        "predictions = rf.predict(test_features)\n",
        "\n",
        "# Use testing set to validate the performance\n",
        "# Print out the mean absolute error (MAE)\n",
        "mae_errors = abs(predictions - test_labels)\n",
        "print('Baseline error (MAE): ', round(np.mean(mae_baseline_errors), 2))\n",
        "print('Error (MAE): ', round(np.mean(mae_errors), 2))\n",
        "\n",
        "# See its performance (mean squared errors)\n",
        "mse_errors = np.sqrt(np.mean((predictions - test_labels)**2))\n",
        "print('Baseline error (MSE): ', round( mse_baseline_errors, 2))\n",
        "print('Error (MSE): ', round(mse_errors, 2))"
      ],
      "execution_count": null,
      "outputs": [
        {
          "output_type": "stream",
          "text": [
            "Baseline error (MAE):  7.56\n",
            "Mean Absolute Error (MAE):  6.31 degrees.\n",
            "Baseline error (MSE):  9.3\n",
            "Error (MSE):  7.72\n"
          ],
          "name": "stdout"
        }
      ]
    },
    {
      "cell_type": "markdown",
      "metadata": {
        "id": "8vIWmqSGG0OX"
      },
      "source": [
        "Not too shabby, we have improved our forecast skill by about 1.5 degrees by using an RF."
      ]
    },
    {
      "cell_type": "markdown",
      "metadata": {
        "id": "2OwHWbD9c6Ox"
      },
      "source": [
        "Question: Does the size of our training/testing samples matter?"
      ]
    },
    {
      "cell_type": "code",
      "metadata": {
        "id": "l29CeNBNbnHb"
      },
      "source": [
        "def split_size_impact(sizes=[0.25,0.5]):\n",
        "  for size in sizes:\n",
        "\n",
        "    split_size = size\n",
        "    train_features, test_features, train_labels, test_labels = train_test_split(features, labels, test_size = split_size, random_state = 42)\n",
        "    number_of_trees = 10\n",
        "    tree_depth = None\n",
        "    node_split = 2       # minimum number of training samples needed to split a node\n",
        "    leaf_samples = 1     # minimum number of training samples required to make a leaf node\n",
        "    criterion = 'mse'    # variance reduction, alternatively 'mae'\n",
        "    rf = RandomForestRegressor(n_estimators = number_of_trees,\n",
        "                           random_state = 42,\n",
        "                           min_samples_split = node_split,\n",
        "                           min_samples_leaf = leaf_samples,\n",
        "                           criterion = criterion,\n",
        "                           max_depth = tree_depth)\n",
        "    rf.fit(train_features, train_labels);\n",
        "\n",
        "    predictions = rf.predict(test_features)\n",
        "\n",
        "    print('Split size: ',size)\n",
        "    mae_errors = abs(predictions - test_labels)\n",
        "    print('Baseline error (MAE): ', round(np.mean(mae_baseline_errors), 2))\n",
        "    print('Error (MAE): ', round(np.mean(mae_errors), 2))\n",
        "\n",
        "    mse_errors = np.sqrt(np.mean((predictions - test_labels)**2))\n",
        "    print('Baseline error (MSE): ', round( mse_baseline_errors, 2))\n",
        "    print('Error (MSE): ', round(mse_errors, 2))\n",
        "    print('')"
      ],
      "execution_count": null,
      "outputs": []
    },
    {
      "cell_type": "markdown",
      "metadata": {
        "id": "DcNSYcBsc-Xn"
      },
      "source": [
        "Compute error stats for a range of training/testing samples sizes"
      ]
    },
    {
      "cell_type": "code",
      "metadata": {
        "id": "J8cTin4Ycc-N",
        "outputId": "6653982d-b88c-408c-fbb4-5a09d1c671f6",
        "colab": {
          "base_uri": "https://localhost:8080/",
          "height": 1000
        }
      },
      "source": [
        "split_size_impact(sizes=np.arange(0.1,0.8,0.05))"
      ],
      "execution_count": null,
      "outputs": [
        {
          "output_type": "stream",
          "text": [
            "Split size:  0.1\n",
            "Baseline error (MAE):  7.56\n",
            "Mean Absolute Error (MAE):  6.06 degrees.\n",
            "Baseline error (MSE):  9.3\n",
            "Error (MSE):  8.05\n",
            "\n",
            "Split size:  0.15000000000000002\n",
            "Baseline error (MAE):  7.56\n",
            "Mean Absolute Error (MAE):  6.17 degrees.\n",
            "Baseline error (MSE):  9.3\n",
            "Error (MSE):  8.03\n",
            "\n",
            "Split size:  0.20000000000000004\n",
            "Baseline error (MAE):  7.56\n",
            "Mean Absolute Error (MAE):  5.53 degrees.\n",
            "Baseline error (MSE):  9.3\n",
            "Error (MSE):  7.46\n",
            "\n",
            "Split size:  0.25000000000000006\n",
            "Baseline error (MAE):  7.56\n",
            "Mean Absolute Error (MAE):  6.31 degrees.\n",
            "Baseline error (MSE):  9.3\n",
            "Error (MSE):  7.72\n",
            "\n",
            "Split size:  0.30000000000000004\n",
            "Baseline error (MAE):  7.56\n",
            "Mean Absolute Error (MAE):  6.46 degrees.\n",
            "Baseline error (MSE):  9.3\n",
            "Error (MSE):  8.09\n",
            "\n",
            "Split size:  0.3500000000000001\n",
            "Baseline error (MAE):  7.56\n",
            "Mean Absolute Error (MAE):  6.01 degrees.\n",
            "Baseline error (MSE):  9.3\n",
            "Error (MSE):  7.67\n",
            "\n",
            "Split size:  0.40000000000000013\n",
            "Baseline error (MAE):  7.56\n",
            "Mean Absolute Error (MAE):  6.19 degrees.\n",
            "Baseline error (MSE):  9.3\n",
            "Error (MSE):  7.78\n",
            "\n",
            "Split size:  0.45000000000000007\n",
            "Baseline error (MAE):  7.56\n",
            "Mean Absolute Error (MAE):  5.95 degrees.\n",
            "Baseline error (MSE):  9.3\n",
            "Error (MSE):  7.35\n",
            "\n",
            "Split size:  0.5000000000000001\n",
            "Baseline error (MAE):  7.56\n",
            "Mean Absolute Error (MAE):  6.01 degrees.\n",
            "Baseline error (MSE):  9.3\n",
            "Error (MSE):  7.34\n",
            "\n",
            "Split size:  0.5500000000000002\n",
            "Baseline error (MAE):  7.56\n",
            "Mean Absolute Error (MAE):  5.96 degrees.\n",
            "Baseline error (MSE):  9.3\n",
            "Error (MSE):  7.45\n",
            "\n",
            "Split size:  0.6000000000000002\n",
            "Baseline error (MAE):  7.56\n",
            "Mean Absolute Error (MAE):  6.32 degrees.\n",
            "Baseline error (MSE):  9.3\n",
            "Error (MSE):  7.77\n",
            "\n",
            "Split size:  0.6500000000000001\n",
            "Baseline error (MAE):  7.56\n",
            "Mean Absolute Error (MAE):  5.72 degrees.\n",
            "Baseline error (MSE):  9.3\n",
            "Error (MSE):  7.32\n",
            "\n",
            "Split size:  0.7000000000000002\n",
            "Baseline error (MAE):  7.56\n",
            "Mean Absolute Error (MAE):  6.42 degrees.\n",
            "Baseline error (MSE):  9.3\n",
            "Error (MSE):  8.04\n",
            "\n",
            "Split size:  0.7500000000000002\n",
            "Baseline error (MAE):  7.56\n",
            "Mean Absolute Error (MAE):  6.2 degrees.\n",
            "Baseline error (MSE):  9.3\n",
            "Error (MSE):  8.0\n",
            "\n"
          ],
          "name": "stdout"
        }
      ]
    },
    {
      "cell_type": "markdown",
      "metadata": {
        "id": "2Vog87wmdDXo"
      },
      "source": [
        "It looks like, generally, skill only varies by about half a degree from worst and best RF models. Subjectively, not a lot of sensitivity."
      ]
    },
    {
      "cell_type": "markdown",
      "metadata": {
        "id": "LIS8T6jSG7DA"
      },
      "source": [
        "### 2.4 Model Optimization"
      ]
    },
    {
      "cell_type": "markdown",
      "metadata": {
        "id": "n2RDbf-9G_rQ"
      },
      "source": [
        "Now that we have marginally improved our skill, we can try and optimize our forecasts as well.\n",
        "\n",
        "Tunable parameters: \\\\\n",
        "-Number of trees \\\\\n",
        "-Tree Depth \\\\\n",
        "-Minimum number of samples to split a node \\\\\n",
        "-Minimum number of samples to get a leaf \\\\\n",
        "-Splitting criterion (in this case it is MSE or MAE) \\\\\n",
        "-Testing/training lengths \\\\\n",
        "\n",
        "Lets look at some trained models with different parameters and see if we can find an improved RF"
      ]
    },
    {
      "cell_type": "markdown",
      "metadata": {
        "id": "nVOlJb2XHdk2"
      },
      "source": [
        "First, we will increase our number of trees. Other variables should be the same\n"
      ]
    },
    {
      "cell_type": "code",
      "metadata": {
        "id": "LTrSRgUMHg1L",
        "outputId": "330d8255-b596-4d61-db17-ac7ac3217d5c",
        "colab": {
          "base_uri": "https://localhost:8080/",
          "height": 82
        }
      },
      "source": [
        "# Started with 10\n",
        "number_of_trees = 70\n",
        "tree_depth = None\n",
        "\n",
        "rf = RandomForestRegressor(n_estimators = number_of_trees, random_state = 42,min_samples_split = node_split,min_samples_leaf = leaf_samples,criterion = criterion,max_depth = tree_depth)\n",
        "rf.fit(train_features, train_labels);\n",
        "predictions = rf.predict(test_features)\n",
        "mae_errors = abs(predictions - test_labels)\n",
        "print('Baseline error (MAE): ', round(np.mean(mae_baseline_errors), 2))\n",
        "print('Error (MAE): ', round(np.mean(mae_errors), 2))\n",
        "mse_errors = np.sqrt(np.mean((predictions - test_labels)**2))\n",
        "print('Baseline error (MSE): ', round( mse_baseline_errors, 2))\n",
        "print('Error (MSE): ', round(mse_errors, 2))"
      ],
      "execution_count": null,
      "outputs": [
        {
          "output_type": "stream",
          "text": [
            "Baseline error (MAE):  7.56\n",
            "Mean Absolute Error (MAE):  5.83 degrees.\n",
            "Baseline error (MSE):  9.3\n",
            "Error (MSE):  7.26\n"
          ],
          "name": "stdout"
        }
      ]
    },
    {
      "cell_type": "markdown",
      "metadata": {
        "id": "wdLvcTXycyRl"
      },
      "source": [
        "Using increments of 10, we see that MSE is optimal at about 60 or 70 trees. *Now* lets try tree depth..."
      ]
    },
    {
      "cell_type": "code",
      "metadata": {
        "id": "fokmCISsH1pi",
        "outputId": "d43defec-3c26-42b2-f50c-28d950f466ed",
        "colab": {
          "base_uri": "https://localhost:8080/",
          "height": 82
        }
      },
      "source": [
        "#Default was None\n",
        "tree_depth = 15\n",
        "number_of_trees = 70\n",
        "\n",
        "rf = RandomForestRegressor(n_estimators = number_of_trees, random_state = 42,min_samples_split = node_split,min_samples_leaf = leaf_samples,criterion = criterion,max_depth = tree_depth)\n",
        "rf.fit(train_features, train_labels);\n",
        "predictions = rf.predict(test_features)\n",
        "mae_errors = abs(predictions - test_labels)\n",
        "print('Baseline error (MAE): ', round(np.mean(mae_baseline_errors), 2))\n",
        "print('Error (MAE): ', round(np.mean(mae_errors), 2))\n",
        "mse_errors = np.sqrt(np.mean((predictions - test_labels)**2))\n",
        "print('Baseline error (MSE): ', round( mse_baseline_errors, 2))\n",
        "print('Error (MSE): ', round(mse_errors, 2))"
      ],
      "execution_count": null,
      "outputs": [
        {
          "output_type": "stream",
          "text": [
            "Baseline error (MAE):  7.56\n",
            "Mean Absolute Error (MAE):  5.82 degrees.\n",
            "Baseline error (MSE):  9.3\n",
            "Error (MSE):  7.25\n"
          ],
          "name": "stdout"
        }
      ]
    },
    {
      "cell_type": "markdown",
      "metadata": {
        "id": "hy-WXrHoIUtJ"
      },
      "source": [
        "Skill maximized at a tree depth of 5...but skill was still pretty good at a depth of 15 too. Little sensitivity to depth when number of trees is at 70.\n",
        "Criterion?"
      ]
    },
    {
      "cell_type": "code",
      "metadata": {
        "id": "moE8fAyvIbQR",
        "outputId": "3f83e100-209b-4994-c4ce-01f4f31771fe",
        "colab": {
          "base_uri": "https://localhost:8080/",
          "height": 82
        }
      },
      "source": [
        "# Default 'mse'\n",
        "criterion = 'mse'\n",
        "number_of_trees = 70\n",
        "tree_depth = 15\n",
        "\n",
        "rf = RandomForestRegressor(n_estimators = number_of_trees, random_state = 42,min_samples_split = node_split,min_samples_leaf = leaf_samples,criterion = criterion,max_depth = tree_depth)\n",
        "rf.fit(train_features, train_labels);\n",
        "predictions = rf.predict(test_features)\n",
        "mae_errors = abs(predictions - test_labels)\n",
        "print('Baseline error (MAE): ', round(np.mean(mae_baseline_errors), 2))\n",
        "print('Error (MAE): ', round(np.mean(mae_errors), 2))\n",
        "mse_errors = np.sqrt(np.mean((predictions - test_labels)**2))\n",
        "print('Baseline error (MSE): ', round( mse_baseline_errors, 2))\n",
        "print('Error (MSE): ', round(mse_errors, 2))"
      ],
      "execution_count": null,
      "outputs": [
        {
          "output_type": "stream",
          "text": [
            "Baseline error (MAE):  7.56\n",
            "Mean Absolute Error (MAE):  5.82 degrees.\n",
            "Baseline error (MSE):  9.3\n",
            "Error (MSE):  7.25\n"
          ],
          "name": "stdout"
        }
      ]
    },
    {
      "cell_type": "markdown",
      "metadata": {
        "id": "FDWBVCWyIjWg"
      },
      "source": [
        "Also little sensitivity. Now lets change the minimum number of samples to split a node..."
      ]
    },
    {
      "cell_type": "code",
      "metadata": {
        "id": "azSbnGCbIiCH",
        "outputId": "14ce77d0-389b-451f-abde-e22d750c1aab",
        "colab": {
          "base_uri": "https://localhost:8080/",
          "height": 82
        }
      },
      "source": [
        "# Default = 2\n",
        "node_split = 14\n",
        "number_of_trees = 70\n",
        "tree_depth = 5\n",
        "criterion = 'mse'\n",
        "\n",
        "rf = RandomForestRegressor(n_estimators = number_of_trees, random_state = 42,min_samples_split = node_split,min_samples_leaf = leaf_samples,criterion = criterion,max_depth = tree_depth)\n",
        "rf.fit(train_features, train_labels);\n",
        "predictions = rf.predict(test_features)\n",
        "mae_errors = abs(predictions - test_labels)\n",
        "print('Baseline error (MAE): ', round(np.mean(mae_baseline_errors), 2))\n",
        "print('Error (MAE): ', round(np.mean(mae_errors), 2))\n",
        "mse_errors = np.sqrt(np.mean((predictions - test_labels)**2))\n",
        "print('Baseline error (MSE): ', round( mse_baseline_errors, 2))\n",
        "print('Error (MSE): ', round(mse_errors, 2))"
      ],
      "execution_count": null,
      "outputs": [
        {
          "output_type": "stream",
          "text": [
            "Baseline error (MAE):  7.56\n",
            "Mean Absolute Error (MAE):  5.72 degrees.\n",
            "Baseline error (MSE):  9.3\n",
            "Error (MSE):  7.15\n"
          ],
          "name": "stdout"
        }
      ]
    },
    {
      "cell_type": "markdown",
      "metadata": {
        "id": "Dm94T_nDJBDa"
      },
      "source": [
        "Local minimum maybe around 14 samples. Finally, lets see if the number of samples in a leaf matters..."
      ]
    },
    {
      "cell_type": "code",
      "metadata": {
        "id": "OWq3MU9xJAr-",
        "outputId": "dd61d190-7b0c-4d19-e6e2-69cc53352632",
        "colab": {
          "base_uri": "https://localhost:8080/",
          "height": 82
        }
      },
      "source": [
        "# Default = 1\n",
        "leaf_samples = 5\n",
        "node_split = 14\n",
        "number_of_trees = 70\n",
        "tree_depth = 5\n",
        "criterion = 'mse'\n",
        "\n",
        "rf = RandomForestRegressor(n_estimators = number_of_trees, random_state = 42,min_samples_split = node_split,min_samples_leaf = leaf_samples,criterion = criterion,max_depth = tree_depth)\n",
        "rf.fit(train_features, train_labels);\n",
        "predictions = rf.predict(test_features)\n",
        "mae_errors = abs(predictions - test_labels)\n",
        "print('Baseline error (MAE): ', round(np.mean(mae_baseline_errors), 2))\n",
        "print('Error (MAE): ', round(np.mean(mae_errors), 2))\n",
        "mse_errors = np.sqrt(np.mean((predictions - test_labels)**2))\n",
        "print('Baseline error (MSE): ', round( mse_baseline_errors, 2))\n",
        "print('Error (MSE): ', round(mse_errors, 2))"
      ],
      "execution_count": null,
      "outputs": [
        {
          "output_type": "stream",
          "text": [
            "Baseline error (MAE):  7.56\n",
            "Mean Absolute Error (MAE):  5.72 degrees.\n",
            "Baseline error (MSE):  9.3\n",
            "Error (MSE):  7.09\n"
          ],
          "name": "stdout"
        }
      ]
    },
    {
      "cell_type": "markdown",
      "metadata": {
        "id": "z2e01IfoJP5x"
      },
      "source": [
        "While I have no clue if this is globally optimized, as we only went through a few permutations while keeping other variables constant, you can get an idea for the strategies to take when trying to optimize your model. In this case, we found the default RF values didn't provide the most optimal model. We were able to increase our predictive skill by about 3/4 of a degree."
      ]
    },
    {
      "cell_type": "markdown",
      "metadata": {
        "id": "GbL4zHMAJZIT"
      },
      "source": [
        "One thing we have yet to discuss is the selection of our training and testing datasets. In some applications, it might be more appropriate to select your datasets as contiguous chunks, rather than random subsets. Can anything think of why this would be the case???"
      ]
    },
    {
      "cell_type": "markdown",
      "metadata": {
        "id": "q75Uz2H8Jjpy"
      },
      "source": [
        "### 2.5 Training Segments and Length"
      ]
    },
    {
      "cell_type": "markdown",
      "metadata": {
        "id": "HLEATk3JJpDv"
      },
      "source": [
        "Lets take the same approach as before, with a segment legnth of 1/4 for testing, but instead of randomly sampling, lets take a contiguous chunk. We will try a couple different chunks too (i.e., cross validate)"
      ]
    },
    {
      "cell_type": "code",
      "metadata": {
        "id": "tQldn7EMJoZF",
        "outputId": "51eba3af-4744-4f39-e166-43afe5353256",
        "colab": {
          "base_uri": "https://localhost:8080/",
          "height": 342
        }
      },
      "source": [
        "# Split the data into training and testing sets\n",
        "split_size = 0.25      # chunk size for testing\n",
        "train_length = 0.75    # chunk size for training\n",
        "num_cv = 4             # number of cross-validation tests\n",
        "\n",
        "cv_train_features = []\n",
        "cv_train_labels = []\n",
        "cv_test_features = []\n",
        "cv_test_labels = []\n",
        "\n",
        "for i in range(0,num_cv):\n",
        "  if i == (num_cv - 1):  # last chunk is for testing\n",
        "    cv_train_features.append(features[:round(len(features[:,0]) * train_length)])\n",
        "    cv_train_labels.append(labels[:round(len(features[:,0]) * train_length)])\n",
        "\n",
        "    cv_test_features.append(features[round(len(features[:,0]) * train_length):])\n",
        "    cv_test_labels.append(labels[round(len(features[:,0]) * train_length):])\n",
        "  elif i == 0:          # first chunk is for testing\n",
        "    cv_train_features.append(features[round(len(features[:,0])*split_size):])\n",
        "    cv_train_labels.append(labels[round(len(features[:,0])*split_size):])\n",
        "\n",
        "    cv_test_features.append(features[:round(len(features[:,0])*split_size)])\n",
        "    cv_test_labels.append(labels[:round(len(features[:,0])*split_size)])\n",
        "  else:                 # chunk is in the middle of training dataset\n",
        "    chunk_size = round(len(features[:,0]) * split_size)\n",
        "    first_chunk = features[:(i*chunk_size)]\n",
        "    second_chunk = features[((i+1)*chunk_size):]\n",
        "\n",
        "    cv_train_features.append(np.concatenate((first_chunk, second_chunk),axis=0))\n",
        "    cv_train_labels.append(np.append(labels[:(i * chunk_size)], labels[(i + 1) * chunk_size:]))\n",
        "\n",
        "    cv_test_features.append(features[(i * chunk_size):(i + 1) * chunk_size])\n",
        "    cv_test_labels.append(labels[(i * chunk_size):(i + 1) * chunk_size])\n",
        "\n",
        "  print('Chunk :',(i+1))\n",
        "  print('Training Features Shape:', cv_train_features[i].shape)\n",
        "  print('Training Labels Shape:', cv_train_labels[i].shape)\n",
        "  print('Testing Features Shape:', cv_test_features[i].shape)\n",
        "  print('Testing Labels Shape:', cv_test_labels[i].shape)"
      ],
      "execution_count": null,
      "outputs": [
        {
          "output_type": "stream",
          "text": [
            "Chunk : 1\n",
            "Training Features Shape: (274, 9)\n",
            "Training Labels Shape: (274,)\n",
            "Testing Features Shape: (91, 9)\n",
            "Testing Labels Shape: (91,)\n",
            "Chunk : 2\n",
            "Training Features Shape: (274, 9)\n",
            "Training Labels Shape: (274,)\n",
            "Testing Features Shape: (91, 9)\n",
            "Testing Labels Shape: (91,)\n",
            "Chunk : 3\n",
            "Training Features Shape: (274, 9)\n",
            "Training Labels Shape: (274,)\n",
            "Testing Features Shape: (91, 9)\n",
            "Testing Labels Shape: (91,)\n",
            "Chunk : 4\n",
            "Training Features Shape: (274, 9)\n",
            "Training Labels Shape: (274,)\n",
            "Testing Features Shape: (91, 9)\n",
            "Testing Labels Shape: (91,)\n"
          ],
          "name": "stdout"
        }
      ]
    },
    {
      "cell_type": "markdown",
      "metadata": {
        "id": "G9iR58w4k0QJ"
      },
      "source": [
        "Alright, great. Each of our training sets is of equal length, as is the testing sets. Now lets make RF models for each of these using the \"optimized\" config found before."
      ]
    },
    {
      "cell_type": "code",
      "metadata": {
        "id": "6MKztgUXK4iZ",
        "outputId": "b071f692-ca55-481b-ad65-2c034a208110",
        "colab": {
          "base_uri": "https://localhost:8080/",
          "height": 342
        }
      },
      "source": [
        "leaf_samples = 5\n",
        "node_split = 14\n",
        "number_of_trees = 70\n",
        "tree_depth = 5\n",
        "criterion = 'mse'\n",
        "\n",
        "cv_predictions = []\n",
        "for i in range(0,num_cv):\n",
        "  cv_rf = RandomForestRegressor(n_estimators = number_of_trees, random_state = 42,min_samples_split = node_split,min_samples_leaf = leaf_samples,criterion = criterion,max_depth = tree_depth)\n",
        "  cv_rf.fit(cv_train_features[i], cv_train_labels[i]);\n",
        "  i_predictions = cv_rf.predict(cv_test_features[i])\n",
        "  cv_predictions.append(i_predictions)\n",
        "  mae_errors = abs(i_predictions - cv_test_labels[i])\n",
        "  print('Model :',(i+1))\n",
        "  print('Baseline error (MAE): ', round(np.mean(mae_baseline_errors), 2))\n",
        "  print('Error (MAE): ', round(np.mean(mae_errors), 2))\n",
        "  mse_errors = np.sqrt(np.mean((i_predictions - cv_test_labels[i])**2))\n",
        "  print('Baseline error (MSE): ', round( mse_baseline_errors, 2))\n",
        "  print('Error (MSE): ', round(mse_errors, 2))"
      ],
      "execution_count": null,
      "outputs": [
        {
          "output_type": "stream",
          "text": [
            "Model : 1\n",
            "Baseline error (MAE):  7.56\n",
            "Mean Absolute Error (MAE):  7.14 degrees.\n",
            "Baseline error (MSE):  9.3\n",
            "Error (MSE):  9.17\n",
            "Model : 2\n",
            "Baseline error (MAE):  7.56\n",
            "Mean Absolute Error (MAE):  6.0 degrees.\n",
            "Baseline error (MSE):  9.3\n",
            "Error (MSE):  7.24\n",
            "Model : 3\n",
            "Baseline error (MAE):  7.56\n",
            "Mean Absolute Error (MAE):  4.36 degrees.\n",
            "Baseline error (MSE):  9.3\n",
            "Error (MSE):  5.72\n",
            "Model : 4\n",
            "Baseline error (MAE):  7.56\n",
            "Mean Absolute Error (MAE):  7.51 degrees.\n",
            "Baseline error (MSE):  9.3\n",
            "Error (MSE):  9.29\n"
          ],
          "name": "stdout"
        }
      ]
    },
    {
      "cell_type": "markdown",
      "metadata": {
        "id": "wkQSD1UqlC96"
      },
      "source": [
        "Interestingly, one of our contiguously-trained models outperforms the randomly-sampled model. Lets take a look at what our models are predicting visually with graphs in a time series"
      ]
    },
    {
      "cell_type": "markdown",
      "metadata": {
        "id": "zEEvFIRYiRG7"
      },
      "source": [
        "### 2.6 Visualization of prediction"
      ]
    },
    {
      "cell_type": "markdown",
      "metadata": {
        "id": "YWEHUbINmSbC"
      },
      "source": [
        "#### Randomly-sampled trained model"
      ]
    },
    {
      "cell_type": "code",
      "metadata": {
        "id": "iNT-5sowmb68"
      },
      "source": [
        "def plot_time_series(features, feature_list, labels, test_features, predictions):\n",
        "  # Use datetime for creating date objects for plotting\n",
        "  # Dates of training values\n",
        "  months = features[:, feature_list.index('MONTH')]\n",
        "  days = features[:, feature_list.index('DAY')]\n",
        "  years = features[:, feature_list.index('YEAR')]\n",
        "  # List and then convert to datetime object\n",
        "  dates = [str(int(year)) + '-' + str(int(month)) + '-' + str(int(day)) for year, month, day in zip(years, months, days)]\n",
        "  dates = [datetime.datetime.strptime(date, '%Y-%m-%d') for date in dates]\n",
        "  # Dataframe with true values and dates\n",
        "  true_data = pd.DataFrame(data = {'date': dates, 'TMAX': labels})\n",
        "  # Dates of predictions\n",
        "  months = test_features[:, feature_list.index('MONTH')]\n",
        "  days = test_features[:, feature_list.index('DAY')]\n",
        "  years = test_features[:, feature_list.index('YEAR')]\n",
        "  # Column of dates\n",
        "  test_dates = [str(int(year)) + '-' + str(int(month)) + '-' + str(int(day)) for year, month, day in zip(years, months, days)]\n",
        "  # Convert to datetime objects\n",
        "  test_dates = [datetime.datetime.strptime(date, '%Y-%m-%d') for date in test_dates]\n",
        "  # Dataframe with predictions and dates\n",
        "  predictions_data = pd.DataFrame(data = {'date': test_dates, 'prediction': predictions})\n",
        "  # Plot the actual values\n",
        "  plt.plot(true_data['date'], true_data['TMAX'], 'b-', label = 'TMAX')\n",
        "  # Plot the predicted values\n",
        "  plt.plot(predictions_data['date'], predictions_data['prediction'], 'ro', label = 'prediction')\n",
        "  plt.xticks(rotation = '60');\n",
        "  plt.legend()\n",
        "  # Graph labels\n",
        "  plt.xlabel('Date'); plt.ylabel('Maximum Temperature (F)'); plt.title('Actual and Predicted Values');\n",
        "  plt.show()"
      ],
      "execution_count": null,
      "outputs": []
    },
    {
      "cell_type": "code",
      "metadata": {
        "id": "CchwPipRiVxv",
        "outputId": "506a6ad1-6ec3-4af6-ad55-fbc2979ef5e5",
        "colab": {
          "base_uri": "https://localhost:8080/",
          "height": 326
        }
      },
      "source": [
        "# Use datetime for creating date objects for plotting\n",
        "# Dates of training values\n",
        "plot_time_series(features, feature_list, labels, test_features, predictions)"
      ],
      "execution_count": null,
      "outputs": [
        {
          "output_type": "display_data",
          "data": {
            "image/png": "[encoded data removed]",
            "text/plain": [
              "<Figure size 432x288 with 1 Axes>"
            ]
          },
          "metadata": {
            "tags": []
          }
        }
      ]
    },
    {
      "cell_type": "markdown",
      "metadata": {
        "id": "BJgvTfsEmX1q"
      },
      "source": [
        "#### Contiguous Chunk Trained Models"
      ]
    },
    {
      "cell_type": "code",
      "metadata": {
        "id": "lZRL7wVNn9nR",
        "outputId": "8e8a4734-1861-4940-c401-2124ce08ca3a",
        "colab": {
          "base_uri": "https://localhost:8080/",
          "height": 1000
        }
      },
      "source": [
        "for i in range(0, num_cv):\n",
        "  print('Model: ',(i+1))\n",
        "  plot_time_series(features, feature_list, labels, cv_test_features[i], cv_predictions[i])"
      ],
      "execution_count": null,
      "outputs": [
        {
          "output_type": "stream",
          "text": [
            "Model:  1\n"
          ],
          "name": "stdout"
        },
        {
          "output_type": "display_data",
          "data": {
            "image/png": "[encoded data removed]",
            "text/plain": [
              "<Figure size 432x288 with 1 Axes>"
            ]
          },
          "metadata": {
            "tags": []
          }
        },
        {
          "output_type": "stream",
          "text": [
            "Model:  2\n"
          ],
          "name": "stdout"
        },
        {
          "output_type": "display_data",
          "data": {
            "image/png": "[encoded data removed]",
            "text/plain": [
              "<Figure size 432x288 with 1 Axes>"
            ]
          },
          "metadata": {
            "tags": []
          }
        },
        {
          "output_type": "stream",
          "text": [
            "Model:  3\n"
          ],
          "name": "stdout"
        },
        {
          "output_type": "display_data",
          "data": {
            "image/png": "[encoded data removed]",
            "text/plain": [
              "<Figure size 432x288 with 1 Axes>"
            ]
          },
          "metadata": {
            "tags": []
          }
        },
        {
          "output_type": "stream",
          "text": [
            "Model:  4\n"
          ],
          "name": "stdout"
        },
        {
          "output_type": "display_data",
          "data": {
            "image/png": "[encoded data removed]",
            "text/plain": [
              "<Figure size 432x288 with 1 Axes>"
            ]
          },
          "metadata": {
            "tags": []
          }
        }
      ]
    },
    {
      "cell_type": "markdown",
      "metadata": {
        "id": "TxLX1ATNpVfy"
      },
      "source": [
        "There may be advantages to organizing your training/testing in this manner, particularly when dealing with examples that are entirely independent from one another, e.g., daily weather patterns.  "
      ]
    },
    {
      "cell_type": "markdown",
      "metadata": {
        "id": "hfwo6cnIh_Zz"
      },
      "source": [
        "# WEDNESDAY: VISUALIZATION TECHNIQUES"
      ]
    },
    {
      "cell_type": "markdown",
      "metadata": {
        "id": "Sfs0dlRRiCWy"
      },
      "source": [
        "### 3.1 Visualizing a Single Decision Tree"
      ]
    },
    {
      "cell_type": "code",
      "metadata": {
        "id": "KSF3ctHsyv1h",
        "outputId": "31f28821-b5b3-4caa-a6c4-ed21e10d8f85",
        "colab": {
          "base_uri": "https://localhost:8080/",
          "height": 118
        }
      },
      "source": [
        "# 1. Make the path of your own Google Drive accessible\n",
        "from google.colab import drive\n",
        "drive.mount('/content/drive', force_remount=True)\n",
        "# Require folks to download the whole folder (ML tutorial) before showing up\n",
        "local_path = '/content/drive/My Drive'"
      ],
      "execution_count": null,
      "outputs": [
        {
          "output_type": "stream",
          "text": [
            "Go to this URL in a browser: https://accounts.google.com/o/oauth2/auth?client_id=947318989803-6bn6qk8qdgf4n4g3pfee6491hc0brc4i.apps.googleusercontent.com&redirect_uri=urn%3aietf%3awg%3aoauth%3a2.0%3aoob&response_type=code&scope=email%20https%3a%2f%2fwww.googleapis.com%2fauth%2fdocs.test%20https%3a%2f%2fwww.googleapis.com%2fauth%2fdrive%20https%3a%2f%2fwww.googleapis.com%2fauth%2fdrive.photos.readonly%20https%3a%2f%2fwww.googleapis.com%2fauth%2fpeopleapi.readonly\n",
            "\n",
            "Enter your authorization code:\n",
            "··········\n",
            "Mounted at /content/drive\n"
          ],
          "name": "stdout"
        }
      ]
    },
    {
      "cell_type": "code",
      "metadata": {
        "id": "Z6m0hSHpiBK3"
      },
      "source": [
        "# Pull out one tree from the forest\n",
        "tree = rf.estimators_[40]\n",
        "\n",
        "# Export the image to a dot file\n",
        "export_graphviz(tree, out_file = '{}/tree.dot'.format(local_path), feature_names = feature_list, rounded = True, precision = 1)\n",
        "\n",
        "# Use dot file to create a graph\n",
        "(graph, ) = pydot.graph_from_dot_file('{}/tree.dot'.format(local_path))\n",
        "\n",
        "# Write graph to a png file\n",
        "png_name = 'tree.png'\n",
        "graph.write_png('{}/{}'.format(local_path, png_name))\n",
        "# see it in your Google Drive!\n"
      ],
      "execution_count": null,
      "outputs": []
    },
    {
      "cell_type": "markdown",
      "metadata": {
        "id": "8Lis4L4iiJUY"
      },
      "source": [
        "### 3.2 Feature Importances"
      ]
    },
    {
      "cell_type": "markdown",
      "metadata": {
        "id": "hC1hfqdGuceB"
      },
      "source": [
        "First we will look at Impurity Importance, which is built into Scikit-learn."
      ]
    },
    {
      "cell_type": "code",
      "metadata": {
        "id": "OgqSVpwwiJ_n"
      },
      "source": [
        "def calc_importances(rf, feature_list):\n",
        "\n",
        "  # Get numerical feature importances\n",
        "  importances = list(rf.feature_importances_)\n",
        "\n",
        "  # List of tuples with variable and importance\n",
        "  feature_importances = [(feature, round(importance, 2)) for feature, importance in zip(feature_list, importances)]\n",
        "\n",
        "  # Sort the feature importances by most important first\n",
        "  feature_importances = sorted(feature_importances, key = lambda x: x[1], reverse = True)\n",
        "\n",
        "  # Print out the feature and importances\n",
        "  [print('Variable: {:20} Importance: {}'.format(*pair)) for pair in feature_importances];\n",
        "\n",
        "  return importances"
      ],
      "execution_count": null,
      "outputs": []
    },
    {
      "cell_type": "code",
      "metadata": {
        "id": "SwggdvM7iR4T"
      },
      "source": [
        "def plot_feat_importances(importances, feature_list):\n",
        "  plt.figure()\n",
        "  # Set the style\n",
        "  plt.style.use('fivethirtyeight')\n",
        "  # list of x locations for plotting\n",
        "  x_values = list(range(len(importances)))\n",
        "  # Make a bar chart\n",
        "  plt.barh(x_values, importances)\n",
        "  # Tick labels for x axis\n",
        "  plt.yticks(x_values, feature_list)\n",
        "  # Axis labels and title\n",
        "  plt.xlabel('Importance'); plt.ylabel('Variable'); plt.title('Variable Importances');"
      ],
      "execution_count": null,
      "outputs": []
    },
    {
      "cell_type": "code",
      "metadata": {
        "id": "v0Yts2qH-lNP",
        "outputId": "a446c049-ed8a-4b19-95eb-4086d01e6c6e",
        "colab": {
          "base_uri": "https://localhost:8080/",
          "height": 455
        }
      },
      "source": [
        "plot_feat_importances(calc_importances(rf, feature_list), feature_list)"
      ],
      "execution_count": null,
      "outputs": [
        {
          "output_type": "stream",
          "text": [
            "Variable: TMAX_CLIM            Importance: 0.42\n",
            "Variable: TMAX_1d              Importance: 0.35\n",
            "Variable: TMIN                 Importance: 0.17\n",
            "Variable: PRCP                 Importance: 0.04\n",
            "Variable: TMAX_2d              Importance: 0.01\n",
            "Variable: YEAR                 Importance: 0.0\n",
            "Variable: MONTH                Importance: 0.0\n",
            "Variable: DAY                  Importance: 0.0\n",
            "Variable: TMAX_SF              Importance: 0.0\n"
          ],
          "name": "stdout"
        },
        {
          "output_type": "display_data",
          "data": {
            "image/png": "[encoded data removed]",
            "text/plain": [
              "<Figure size 432x288 with 1 Axes>"
            ]
          },
          "metadata": {
            "tags": []
          }
        }
      ]
    },
    {
      "cell_type": "markdown",
      "metadata": {
        "id": "6T6E9ZRi_qQW"
      },
      "source": [
        "### 3.3 Permutation Importances"
      ]
    },
    {
      "cell_type": "code",
      "metadata": {
        "id": "WOuejg730XhZ"
      },
      "source": [
        "# Single-pass permutation\n",
        "permute = permutation_importance(rf, test_features, test_labels, n_repeats=10,\n",
        "                                 random_state=42)\n",
        "\n",
        "# Sort the importances\n",
        "sorted_idx = permute.importances_mean.argsort()"
      ],
      "execution_count": null,
      "outputs": []
    },
    {
      "cell_type": "markdown",
      "metadata": {
        "id": "x5RIkCKO1KPE"
      },
      "source": [
        "First, lets look at what is most important in the test set"
      ]
    },
    {
      "cell_type": "code",
      "metadata": {
        "id": "GiXCBDcz0lJN"
      },
      "source": [
        "def plot_perm_importances(permute, sorted_idx, feature_list):\n",
        "  fig, ax = plt.subplots()\n",
        "  ax.boxplot(permute.importances[sorted_idx].T,\n",
        "           vert=False, labels=feature_list)\n",
        "  ax.set_title(\"Permutation Importances\")\n",
        "  fig.tight_layout()"
      ],
      "execution_count": null,
      "outputs": []
    },
    {
      "cell_type": "code",
      "metadata": {
        "id": "SGEnl3ih_VTI",
        "outputId": "9ebbbb3b-e8b7-4723-fbb9-6fd90d9dc08d",
        "colab": {
          "base_uri": "https://localhost:8080/",
          "height": 288
        }
      },
      "source": [
        "plot_perm_importances(permute, sorted_idx, feature_list)"
      ],
      "execution_count": null,
      "outputs": [
        {
          "output_type": "display_data",
          "data": {
            "image/png": "[encoded data removed]",
            "text/plain": [
              "<Figure size 432x288 with 1 Axes>"
            ]
          },
          "metadata": {
            "tags": []
          }
        }
      ]
    },
    {
      "cell_type": "markdown",
      "metadata": {
        "id": "ZDcXepd01M6K"
      },
      "source": [
        "How about in the training set?"
      ]
    },
    {
      "cell_type": "code",
      "metadata": {
        "id": "1Cc5ijQW0iht",
        "outputId": "394cc135-ec78-4295-e686-f42345e0e732",
        "colab": {
          "base_uri": "https://localhost:8080/",
          "height": 288
        }
      },
      "source": [
        "permute = permutation_importance(rf, train_features, train_labels, n_repeats=100, random_state=42)\n",
        "sorted_idx = permute.importances_mean.argsort()\n",
        "\n",
        "plot_perm_importances(permute, sorted_idx, feature_list)"
      ],
      "execution_count": null,
      "outputs": [
        {
          "output_type": "display_data",
          "data": {
            "image/png": "[encoded data removed]",
            "text/plain": [
              "<Figure size 432x288 with 1 Axes>"
            ]
          },
          "metadata": {
            "tags": []
          }
        }
      ]
    },
    {
      "cell_type": "markdown",
      "metadata": {
        "id": "kWoFqi8vMzrg"
      },
      "source": [
        "### 3.4 Comparing Predictors"
      ]
    },
    {
      "cell_type": "markdown",
      "metadata": {
        "id": "pieVVuxvM3zT"
      },
      "source": [
        "It may be beneficial at times to compare your labels to predictors, which can something explain why certain features are better than others. Lets plot the time series for max temp and a couple features"
      ]
    },
    {
      "cell_type": "code",
      "metadata": {
        "id": "5DQnzCQF5Aye"
      },
      "source": [
        "def plot_features(features, variables=['TMAX','TMAX_1d','TMAX_CLIM','TMIN']):\n",
        "  # Make the data accessible for plotting\n",
        "  # Dates of training values\n",
        "  months = features[:, feature_list.index('MONTH')]\n",
        "  days = features[:, feature_list.index('DAY')]\n",
        "  years = features[:, feature_list.index('YEAR')]\n",
        "  # List and then convert to datetime object\n",
        "  dates = [str(int(year)) + '-' + str(int(month)) + '-' + str(int(day)) for year, month, day in zip(years, months, days)]\n",
        "  dates = [datetime.datetime.strptime(date, '%Y-%m-%d') for date in dates]\n",
        "  # Make the data accessible for plotting\n",
        "  true_data = pd.DataFrame(data = {'date': dates, 'TMAX': labels})\n",
        "  true_data[variables[1]] = features[:, feature_list.index(variables[1])]\n",
        "  true_data[variables[2]] = features[:, feature_list.index(variables[2])]\n",
        "  true_data[variables[3]] = features[:, feature_list.index(variables[3])]\n",
        "  # Plot all the data as lines\n",
        "  plt.plot(true_data['date'], true_data['TMAX'], 'b-', label  = 'TMAX', alpha = 1.0)\n",
        "  plt.plot(true_data['date'], true_data[variables[1]], 'y-', label  = variables[1], alpha = 1.0)\n",
        "  plt.plot(true_data['date'], true_data[variables[2]], 'k-', label = variables[2], alpha = 0.8)\n",
        "  plt.plot(true_data['date'], true_data[variables[3]], 'r-', label = variables[3], alpha = 0.3)\n",
        "  # Formatting plot\n",
        "  plt.legend(); plt.xticks(rotation = '60');\n",
        "  # Lables and title\n",
        "  plt.xlabel('Date'); plt.ylabel('Maximum Temperature (F)'); plt.title('Actual Max Temp and Variables');"
      ],
      "execution_count": null,
      "outputs": []
    },
    {
      "cell_type": "code",
      "metadata": {
        "id": "JfX0ZicWiYt0",
        "outputId": "91e535aa-de7d-486c-971d-a3871379c06c",
        "colab": {
          "base_uri": "https://localhost:8080/",
          "height": 367
        }
      },
      "source": [
        "plot_features(features)"
      ],
      "execution_count": null,
      "outputs": [
        {
          "output_type": "display_data",
          "data": {
            "image/png": "[encoded data removed]",
            "text/plain": [
              "<Figure size 432x288 with 1 Axes>"
            ]
          },
          "metadata": {
            "tags": []
          }
        }
      ]
    },
    {
      "cell_type": "code",
      "metadata": {
        "id": "utu8XRLm9ZHH",
        "outputId": "e6399c25-a911-4740-bf3c-7bb5f4d68098",
        "colab": {
          "base_uri": "https://localhost:8080/",
          "height": 367
        }
      },
      "source": [
        "plot_features(features, variables=['TMAX','TMAX_CLIM','TMAX_SF','PRCP'])"
      ],
      "execution_count": null,
      "outputs": [
        {
          "output_type": "display_data",
          "data": {
            "image/png": "[encoded data removed]",
            "text/plain": [
              "<Figure size 432x288 with 1 Axes>"
            ]
          },
          "metadata": {
            "tags": []
          }
        }
      ]
    },
    {
      "cell_type": "markdown",
      "metadata": {
        "id": "SE_yfBvw_xB3"
      },
      "source": [
        "### Extra: Train a Model Using Only a Subset of Predictors"
      ]
    },
    {
      "cell_type": "code",
      "metadata": {
        "id": "AFwijCAhApDS",
        "outputId": "45c6b6d8-fbf3-4603-9abc-2479d25ed60b",
        "colab": {
          "base_uri": "https://localhost:8080/",
          "height": 50
        }
      },
      "source": [
        "leaf_samples = 5\n",
        "node_split = 14\n",
        "number_of_trees = 70\n",
        "tree_depth = 5\n",
        "criterion = 'mse'\n",
        "\n",
        "#Reload in features to clean things up a bit\n",
        "features = pd.read_csv(url)\n",
        "features = features.drop('TMAX', axis = 1)\n",
        "features = features.drop('TMAX_BD', axis = 1)\n",
        "\n",
        "feature_list = list(features.columns)\n",
        "features = np.array(features)\n",
        "train_features, test_features, train_labels, test_labels = train_test_split(features, labels, test_size = split_size, random_state = 42)\n",
        "\n",
        "# New random forest with only the two most important variables\n",
        "rf_most_important = RandomForestRegressor(n_estimators = number_of_trees,\n",
        "                                          random_state = 42,\n",
        "                                          min_samples_split = node_split,\n",
        "                                          min_samples_leaf = leaf_samples,\n",
        "                                          criterion = criterion,\n",
        "                                          max_depth = tree_depth)\n",
        "\n",
        "# Use the top 4 predictors, as determined by feature importance\n",
        "important_indices = [feature_list.index('PRCP'), feature_list.index('TMAX_CLIM'), feature_list.index('TMAX_1d'), feature_list.index('TMIN')]\n",
        "train_important = train_features[:, important_indices]\n",
        "test_important = test_features[:, important_indices]\n",
        "# Train the random forest\n",
        "rf_most_important.fit(train_important, train_labels)\n",
        "# Make predictions\n",
        "predictions = rf_most_important.predict(test_important)\n",
        "# Display the performance metrics\n",
        "errors = np.sqrt(np.mean((predictions - test_labels)**2))\n",
        "print('Baseline error (MSE): ', round( mse_baseline_errors, 2))\n",
        "print('Error (MSE): ', round(errors, 2))"
      ],
      "execution_count": null,
      "outputs": [
        {
          "output_type": "stream",
          "text": [
            "Baseline error (MSE):  9.3\n",
            "Error (MSE):  7.13\n"
          ],
          "name": "stdout"
        }
      ]
    },
    {
      "cell_type": "code",
      "metadata": {
        "id": "PLp8c0VtNH3B",
        "outputId": "f4a125f8-2564-4f0d-a942-7d8da9469e95",
        "colab": {
          "base_uri": "https://localhost:8080/",
          "height": 50
        }
      },
      "source": [
        "leaf_samples = 5\n",
        "node_split = 14\n",
        "number_of_trees = 70\n",
        "tree_depth = 5\n",
        "criterion = 'mse'\n",
        "\n",
        "#Reload in features to clean things up a bit\n",
        "features = pd.read_csv(url)\n",
        "features = features.drop('TMAX', axis = 1)\n",
        "features = features.drop('TMAX_BD', axis = 1)\n",
        "\n",
        "feature_list = list(features.columns)\n",
        "features = np.array(features)\n",
        "train_features, test_features, train_labels, test_labels = train_test_split(features, labels, test_size = split_size, random_state = 42)\n",
        "\n",
        "# New random forest with only the two most important variables\n",
        "rf_most_important = RandomForestRegressor(n_estimators = number_of_trees,\n",
        "                                          random_state = 42,\n",
        "                                          min_samples_split = node_split,\n",
        "                                          min_samples_leaf = leaf_samples,\n",
        "                                          criterion = criterion,\n",
        "                                          max_depth = tree_depth)\n",
        "\n",
        "# Use the top 4 predictors, as determined by permutation importance\n",
        "important_indices = [feature_list.index('PRCP'), feature_list.index('TMAX_CLIM'), feature_list.index('TMAX_SF'), feature_list.index('TMAX_2d')]\n",
        "train_important = train_features[:, important_indices]\n",
        "test_important = test_features[:, important_indices]\n",
        "# Train the random forest\n",
        "rf_most_important.fit(train_important, train_labels)\n",
        "# Make predictions\n",
        "predictions = rf_most_important.predict(test_important)\n",
        "# Display the performance metrics\n",
        "errors = np.sqrt(np.mean((predictions - test_labels)**2))\n",
        "print('Baseline error (MSE): ', round( mse_baseline_errors, 2))\n",
        "print('Error (MSE): ', round(errors, 2))"
      ],
      "execution_count": null,
      "outputs": [
        {
          "output_type": "stream",
          "text": [
            "Baseline error (MSE):  9.3\n",
            "Error (MSE):  8.53\n"
          ],
          "name": "stdout"
        }
      ]
    },
    {
      "cell_type": "markdown",
      "metadata": {
        "id": "6g4si8loAUy1"
      },
      "source": [
        "## Extra: Woah Nelly Results"
      ]
    },
    {
      "cell_type": "markdown",
      "metadata": {
        "id": "2FzAgocV7be2"
      },
      "source": [
        "Remember at the very beginning of the tutorial when we withheld Boulder's high temperature? Well lets add that back in and train a model."
      ]
    },
    {
      "cell_type": "code",
      "metadata": {
        "id": "a3ZT_UG_iOzl",
        "outputId": "61565843-0513-4b04-a47c-8a138ef50a3b",
        "colab": {
          "base_uri": "https://localhost:8080/",
          "height": 50
        }
      },
      "source": [
        "leaf_samples = 5\n",
        "node_split = 14\n",
        "number_of_trees = 70\n",
        "tree_depth = 5\n",
        "criterion = 'mse'\n",
        "\n",
        "#Reload in features and don't delete Boulder data\n",
        "features = pd.read_csv(url)\n",
        "features = features.drop('TMAX', axis = 1)\n",
        "\n",
        "# Save this for a little bit...\n",
        "#features = features.drop('TMAX_CLIM', axis = 1)\n",
        "#features = features.drop('PRCP', axis = 1)\n",
        "#features = features.drop('TMAX_SF', axis = 1)\n",
        "#features = features.drop('TMAX_BD', axis = 1)\n",
        "\n",
        "feature_list = list(features.columns)\n",
        "features = np.array(features)\n",
        "train_important, test_important, train_labels, test_labels = train_test_split(features, labels, test_size = split_size, random_state = 42)\n",
        "\n",
        "# New random forest with only the two most important variables\n",
        "rf_most_important = RandomForestRegressor(n_estimators = number_of_trees,\n",
        "                                          random_state = 42,\n",
        "                                          min_samples_split = node_split,\n",
        "                                          min_samples_leaf = leaf_samples,\n",
        "                                          criterion = criterion,\n",
        "                                          max_depth = tree_depth)\n",
        "\n",
        "# Train the random forest\n",
        "rf_most_important.fit(train_important, train_labels)\n",
        "# Make predictions\n",
        "predictions = rf_most_important.predict(test_important)\n",
        "# Display the performance metrics\n",
        "errors = np.sqrt(np.mean((predictions - test_labels)**2))\n",
        "print('Baseline error (MSE): ', round( mse_baseline_errors, 2))\n",
        "print('Error (MSE): ', round(errors, 2))"
      ],
      "execution_count": null,
      "outputs": [
        {
          "output_type": "stream",
          "text": [
            "Baseline error (MSE):  9.3\n",
            "Error (MSE):  3.87\n"
          ],
          "name": "stdout"
        }
      ]
    },
    {
      "cell_type": "markdown",
      "metadata": {
        "id": "75eRUgSHAZE2"
      },
      "source": [
        "Error is SIGNIFICANTLY reduced.\n",
        "\n",
        "Lets look at predictor importance real quick...\n",
        "\n"
      ]
    },
    {
      "cell_type": "code",
      "metadata": {
        "id": "cJpdjY4X-Pkb"
      },
      "source": [
        "new_importances = list(rf_most_important.feature_importances_)\n",
        "feature_importances = [(feature, round(importance, 2)) for feature, importance in zip(feature_list, new_importances)]\n",
        "feature_importances = sorted(feature_importances, key = lambda x: x[1], reverse = True)\n",
        "\n"
      ],
      "execution_count": null,
      "outputs": []
    },
    {
      "cell_type": "code",
      "metadata": {
        "id": "71r7BJc6-tZt",
        "outputId": "324054b1-aed5-4fdb-ef52-1aa68d2472fc",
        "colab": {
          "base_uri": "https://localhost:8080/",
          "height": 325
        }
      },
      "source": [
        "plot_feat_importances(new_importances, feature_list)"
      ],
      "execution_count": null,
      "outputs": [
        {
          "output_type": "display_data",
          "data": {
            "image/png": "[encoded data removed]",
            "text/plain": [
              "<Figure size 432x288 with 1 Axes>"
            ]
          },
          "metadata": {
            "tags": []
          }
        }
      ]
    },
    {
      "cell_type": "code",
      "metadata": {
        "id": "s5d7pOE_mucn"
      },
      "source": [
        "# Pull out one tree from the forest\n",
        "tree = rf_most_important.estimators_[40]\n",
        "\n",
        "# Export the image to a dot file\n",
        "export_graphviz(tree, out_file = '{}/tree.dot'.format(local_path), feature_names = feature_list, rounded = True, precision = 1)\n",
        "\n",
        "# Use dot file to create a graph\n",
        "(graph, ) = pydot.graph_from_dot_file('{}/tree.dot'.format(local_path))\n",
        "\n",
        "# Write graph to a png file\n",
        "png_name = 'tree.png'\n",
        "graph.write_png('{}/{}'.format(local_path, png_name))\n",
        "# see it in your Google Drive!"
      ],
      "execution_count": null,
      "outputs": []
    },
    {
      "cell_type": "code",
      "metadata": {
        "id": "xwkQgYtA_dOQ",
        "outputId": "a4208ddf-2614-4dc7-f219-0f65a31306bc",
        "colab": {
          "base_uri": "https://localhost:8080/",
          "height": 288
        }
      },
      "source": [
        "permute = permutation_importance(rf_most_important, train_important, train_labels, n_repeats=10 )\n",
        "sorted_idx = permute.importances_mean.argsort()\n",
        "plot_perm_importances(permute, sorted_idx, feature_list)"
      ],
      "execution_count": null,
      "outputs": [
        {
          "output_type": "display_data",
          "data": {
            "image/png": "[encoded data removed]",
            "text/plain": [
              "<Figure size 432x288 with 1 Axes>"
            ]
          },
          "metadata": {
            "tags": []
          }
        }
      ]
    },
    {
      "cell_type": "markdown",
      "metadata": {
        "id": "Hhjr5xJuXaM9"
      },
      "source": [
        "Impurity feature importance suggests that the Boulder observation is extremely important, while the permutation importance thinks the climatology is most important. But if we look at a tree, we can see that the Boulder observation is littered across the top of trees; of course the impurity importance will pick it out!"
      ]
    },
    {
      "cell_type": "markdown",
      "metadata": {
        "id": "_VFENf5TnZJ0"
      },
      "source": [
        "What if we trained the model JUST using Boulders high temperature???"
      ]
    },
    {
      "cell_type": "code",
      "metadata": {
        "id": "CH6UiWOGdAyx",
        "outputId": "5fd9673b-0a84-4105-e2e8-fb82e0463b0c",
        "colab": {
          "base_uri": "https://localhost:8080/",
          "height": 50
        }
      },
      "source": [
        "leaf_samples = 5\n",
        "node_split = 14\n",
        "number_of_trees = 70\n",
        "tree_depth = 5\n",
        "criterion = 'mse'\n",
        "\n",
        "#Reload in features to clean things up a bit\n",
        "features = pd.read_csv(url)\n",
        "features = features.drop('TMAX', axis = 1)\n",
        "\n",
        "feature_list = list(features.columns)\n",
        "features = np.array(features)\n",
        "train_features, test_features, train_labels, test_labels = train_test_split(features, labels, test_size = split_size, random_state = 42)\n",
        "\n",
        "# New random forest with only the two most important variables\n",
        "rf_most_important = RandomForestRegressor(n_estimators = number_of_trees,\n",
        "                                          random_state = 42,\n",
        "                                          min_samples_split = node_split,\n",
        "                                          min_samples_leaf = leaf_samples,\n",
        "                                          criterion = criterion,\n",
        "                                          max_depth = tree_depth)\n",
        "\n",
        "# Use the top 4 predictors, as determined by permutation importance\n",
        "important_indices = [feature_list.index('TMAX_BD')]\n",
        "train_important = train_features[:, important_indices]\n",
        "test_important = test_features[:, important_indices]\n",
        "# Train the random forest\n",
        "rf_most_important.fit(train_important, train_labels)\n",
        "# Make predictions\n",
        "predictions = rf_most_important.predict(test_important)\n",
        "# Display the performance metrics\n",
        "errors = np.sqrt(np.mean((predictions - test_labels)**2))\n",
        "print('Baseline error (MSE): ', round( mse_baseline_errors, 2))\n",
        "print('Error (MSE): ', round(errors, 2))"
      ],
      "execution_count": null,
      "outputs": [
        {
          "output_type": "stream",
          "text": [
            "Baseline error (MSE):  9.3\n",
            "Error (MSE):  3.97\n"
          ],
          "name": "stdout"
        }
      ]
    }
  ]
}